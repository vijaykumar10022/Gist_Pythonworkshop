{
 "cells": [
  {
   "cell_type": "code",
   "execution_count": 2,
   "metadata": {},
   "outputs": [
    {
     "name": "stdout",
     "output_type": "stream",
     "text": [
      "dfsafds\n",
      "\n",
      "sadfa\n",
      "dsfa\n",
      "sdfas\n",
      "dad\n",
      "a\n",
      "fdad\n"
     ]
    }
   ],
   "source": [
    "file_data=open('demo.txt')\n",
    "data=file_data.read()\n",
    "print(data)\n",
    "file_data.close()"
   ]
  },
  {
   "cell_type": "code",
   "execution_count": 4,
   "metadata": {},
   "outputs": [
    {
     "name": "stdout",
     "output_type": "stream",
     "text": [
      "Enter Your DataThis is python Workshop\n",
      "Data Stored Sucessfully...!!!\n"
     ]
    }
   ],
   "source": [
    "file_path='insert_data.txt'\n",
    "with open(file_path,'w') as f:\n",
    "    data=input(\"Enter Your Data\")\n",
    "    f.write(data)\n",
    "    print(\"Data Stored Sucessfully...!!!\")"
   ]
  },
  {
   "cell_type": "code",
   "execution_count": 5,
   "metadata": {},
   "outputs": [
    {
     "name": "stdout",
     "output_type": "stream",
     "text": [
      "This is python Workshop\n"
     ]
    }
   ],
   "source": [
    "with open(file_path,'r') as f:\n",
    "    data=f.read()\n",
    "    print(data)"
   ]
  },
  {
   "cell_type": "code",
   "execution_count": 9,
   "metadata": {},
   "outputs": [
    {
     "name": "stdout",
     "output_type": "stream",
     "text": [
      "Added Sucessfully....!!!\n"
     ]
    }
   ],
   "source": [
    "\n",
    "def add_contact(file_path,name,phone):\n",
    "    with open(file_path,'w') as f:\n",
    "        f.write(name+\":\"+str(phone))\n",
    "        print(\"Added Sucessfully....!!!\")\n",
    "add_contact('contact.txt',\"vijay\",9745155656)"
   ]
  },
  {
   "cell_type": "code",
   "execution_count": null,
   "metadata": {},
   "outputs": [],
   "source": []
  }
 ],
 "metadata": {
  "kernelspec": {
   "display_name": "Python 3",
   "language": "python",
   "name": "python3"
  },
  "language_info": {
   "codemirror_mode": {
    "name": "ipython",
    "version": 3
   },
   "file_extension": ".py",
   "mimetype": "text/x-python",
   "name": "python",
   "nbconvert_exporter": "python",
   "pygments_lexer": "ipython3",
   "version": "3.7.1"
  }
 },
 "nbformat": 4,
 "nbformat_minor": 2
}
