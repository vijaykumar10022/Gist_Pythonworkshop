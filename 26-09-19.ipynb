{
 "cells": [
  {
   "cell_type": "markdown",
   "metadata": {},
   "source": [
    "# Day Objecetives\n",
    "- String Slicing\n",
    "    - Different Programs\n",
    "- Data Strucures\n",
    "    - List\n",
    "    - Tuples\n",
    "    - Dictinaries\n"
   ]
  },
  {
   "cell_type": "code",
   "execution_count": 4,
   "metadata": {},
   "outputs": [
    {
     "name": "stdout",
     "output_type": "stream",
     "text": [
      "['__add__', '__class__', '__contains__', '__delattr__', '__dir__', '__doc__', '__eq__', '__format__', '__ge__', '__getattribute__', '__getitem__', '__getnewargs__', '__gt__', '__hash__', '__init__', '__init_subclass__', '__iter__', '__le__', '__len__', '__lt__', '__mod__', '__mul__', '__ne__', '__new__', '__reduce__', '__reduce_ex__', '__repr__', '__rmod__', '__rmul__', '__setattr__', '__sizeof__', '__str__', '__subclasshook__', 'capitalize', 'casefold', 'center', 'count', 'encode', 'endswith', 'expandtabs', 'find', 'format', 'format_map', 'index', 'isalnum', 'isalpha', 'isascii', 'isdecimal', 'isdigit', 'isidentifier', 'islower', 'isnumeric', 'isprintable', 'isspace', 'istitle', 'isupper', 'join', 'ljust', 'lower', 'lstrip', 'maketrans', 'partition', 'replace', 'rfind', 'rindex', 'rjust', 'rpartition', 'rsplit', 'rstrip', 'split', 'splitlines', 'startswith', 'strip', 'swapcase', 'title', 'translate', 'upper', 'zfill']\n"
     ]
    }
   ],
   "source": [
    "print(dir(str))"
   ]
  },
  {
   "cell_type": "code",
   "execution_count": 21,
   "metadata": {},
   "outputs": [
    {
     "name": "stdout",
     "output_type": "stream",
     "text": [
      "python Programming\n",
      "6\n",
      "11\n",
      " Programming\n",
      "Even Characters\n",
      "p\n",
      "t\n",
      "o\n",
      " \n",
      "r\n",
      "g\n",
      "a\n",
      "m\n",
      "n\n",
      "Odd Characters\n",
      "y\n",
      "h\n",
      "n\n",
      "P\n",
      "o\n",
      "r\n",
      "m\n",
      "i\n",
      "g\n",
      "pto rgamn\n",
      "yhnPormig\n"
     ]
    }
   ],
   "source": [
    "# String Slicing\n",
    "s=\"python Programming\"\n",
    "print(s[0:])\n",
    "pos=s.index(' ')\n",
    "# for i in range(len(s)):\n",
    "#     if(s[i].isspace()):\n",
    "#         pos=i\n",
    "for i in range(len(s)):\n",
    "    if(s[i]=='r'):\n",
    "        pos2=i\n",
    "print(pos)\n",
    "print(pos2)\n",
    "print(s[pos:])\n",
    "print(\"Even Characters\")\n",
    "for i in range(len(s)):\n",
    "    if(i%2==0):\n",
    "        print(s[i])\n",
    "print(\"Odd Characters\")\n",
    "for i in range(len(s)):\n",
    "    if(i%2!=0):\n",
    "        print(s[i])\n",
    "print(s[0::2])\n",
    "print(s[1::2])\n"
   ]
  },
  {
   "cell_type": "code",
   "execution_count": 45,
   "metadata": {},
   "outputs": [
    {
     "name": "stdout",
     "output_type": "stream",
     "text": [
      "Not Palindrome\n"
     ]
    }
   ],
   "source": [
    "# print(s)\n",
    "# l=-(len(s))\n",
    "# for i in range(-1,l+1,-1):\n",
    "#     print(s[i])\n",
    "# print(s[::-1])\n",
    "string=\"MALAYALAM\"\n",
    "revstring=string[::-1]\n",
    "if(string==revstring):\n",
    "    print(\"Palindrome\")\n",
    "else:\n",
    "    print(\"Not Palindrome\")\n",
    "\n",
    "    \n",
    "    "
   ]
  },
  {
   "cell_type": "code",
   "execution_count": 59,
   "metadata": {},
   "outputs": [
    {
     "name": "stdout",
     "output_type": "stream",
     "text": [
      "Enter Your Data:BAC57169\n",
      "['B', 'A', 'C']\n",
      "['5', '7', '1', '6', '9']\n",
      "['A', 'B', 'C']\n",
      "['1', '5', '6', '7', '9']\n",
      "ABC\n",
      "15679\n",
      "ABC15679\n"
     ]
    }
   ],
   "source": [
    "# input:\"BAC57169\"\n",
    "# output:ABC15679\n",
    "s=input(\"Enter Your Data:\")\n",
    "alphabets=[]\n",
    "numaric=[]\n",
    "for i in range(len(s)):\n",
    "    if(s[i].isalpha()):\n",
    "        alphabets.append(s[i])\n",
    "    if(s[i].isnumeric()):\n",
    "        numaric.append(s[i])\n",
    "print(alphabets)\n",
    "print(numaric)\n",
    "alphabets=sorted(alphabets)\n",
    "numaric=sorted(numaric)\n",
    "print(alphabets)\n",
    "print(numaric)\n",
    "sorted_alphabet_list=\"\".join(alphabets)\n",
    "sorted_numaric_list=\"\".join(numaric)\n",
    "print(sorted_alphabet_list)\n",
    "print(sorted_numaric_list)\n",
    "data=sorted_alphabet_list+sorted_numaric_list\n",
    "print(data)\n"
   ]
  },
  {
   "cell_type": "code",
   "execution_count": 64,
   "metadata": {},
   "outputs": [
    {
     "name": "stdout",
     "output_type": "stream",
     "text": [
      "pyton pyton pyton pyton \n"
     ]
    }
   ],
   "source": [
    "# input:\"python\"\n",
    "# output:ppppyyyytttthhhoooonnnn\n",
    "s=input(\"Enter String\")\n",
    "for i in range(len(s)):\n",
    "    print(s[i]*4,end=\"\")\n",
    "#input:python\n",
    "#output:ppppppyyyyytttthhhoon\n",
    "s=\"pyton \"\n",
    "print(s*4)\n"
   ]
  },
  {
   "cell_type": "code",
   "execution_count": 70,
   "metadata": {},
   "outputs": [
    {
     "name": "stdout",
     "output_type": "stream",
     "text": [
      "CSE4ECE5MEC3CIV5\n",
      "CSECSECSECSE\n",
      "ECEECEECEECEECE\n",
      "MECMECMEC\n",
      "CIVCIVCIVCIVCIV\n"
     ]
    }
   ],
   "source": [
    "# input:CSE4ECE5MEC3CIV5\n",
    "# output:CSE CSE CSE CSE ECE ECE ECE ECE ECE ...\n",
    "s=input()\n",
    "data=''\n",
    "for i in range(len(s)):\n",
    "    if(s[i].isalpha()):\n",
    "        data=data+s[i]\n",
    "    if(s[i].isnumeric()):\n",
    "        print(data*int(s[i]))\n",
    "        data=''\n"
   ]
  },
  {
   "cell_type": "code",
   "execution_count": null,
   "metadata": {},
   "outputs": [],
   "source": [
    "# input:4CSE5ECE2MEC3CIV\n",
    "# output:CSECSECSECSE ECEECEECEECEECEECE MECMEC CIVCIVCIV"
   ]
  },
  {
   "cell_type": "code",
   "execution_count": 82,
   "metadata": {},
   "outputs": [
    {
     "name": "stdout",
     "output_type": "stream",
     "text": [
      "Enter String:vijay kumar deepu hari vinod\n",
      "['vijay', 'kumar', 'deepu', 'hari', 'vinod']\n",
      "Even Pos Data: yajiv kumar upeed hari doniv \n",
      "Odd Pos Data: vijay ramuk deepu irah vinod \n",
      "All Revese Data: yajiv ramuk upeed irah doniv "
     ]
    }
   ],
   "source": [
    "# input:\"ECE CSE MEC CIV IT\"\n",
    "# output:\n",
    "#     ECE ESC MEC VIC IT-->Odd Position string revese\n",
    "#     ECE CSE CEM CIV TI -->Even Pos String reverse\n",
    "data=input(\"Enter String:\")\n",
    "data=data.split()\n",
    "print(data)\n",
    "print(\"Even Pos Data:\",end=\" \")\n",
    "for i in range(len(data)):\n",
    "    if(i%2==0):\n",
    "        print(data[i][::-1],end=\" \")\n",
    "    else:\n",
    "        print(data[i],end=\" \")\n",
    "print(\"\\nOdd Pos Data:\",end=\" \")\n",
    "for i in range(len(data)):\n",
    "    if(i%2==1):\n",
    "        print(data[i][::-1],end=\" \")\n",
    "    else:\n",
    "        print(data[i],end=\" \") \n",
    "print(\"\\nAll Revese Data:\",end=\" \")\n",
    "for i in range(len(data)):\n",
    "    print(data[i][::-1],end=\" \")"
   ]
  },
  {
   "cell_type": "code",
   "execution_count": 94,
   "metadata": {},
   "outputs": [
    {
     "name": "stdout",
     "output_type": "stream",
     "text": [
      "A ---> 4\n",
      "A ---> 4\n",
      "A ---> 4\n",
      "A ---> 4\n",
      "B ---> 4\n",
      "B ---> 4\n",
      "B ---> 4\n",
      "B ---> 4\n",
      "R ---> 5\n",
      "R ---> 5\n",
      "R ---> 5\n",
      "R ---> 5\n",
      "R ---> 5\n",
      "E ---> 4\n",
      "E ---> 4\n",
      "E ---> 4\n",
      "E ---> 4\n"
     ]
    }
   ],
   "source": [
    "# Frequency of Each Charater\n",
    "s=\"AAAABBBBRRRRREEEE\"\n",
    "# for i in range(len(s)):\n",
    "#     print(s[i],\"---->\",s.count(s[i]))\n",
    "for ch in s:\n",
    "    print(ch,\"--->\",s.count(ch))\n",
    "s=list(s)\n",
    "# print(s)\n",
    "li=[]\n",
    "for ch in s:\n",
    "    if ch not in li:\n",
    "        li.append(ch)\n",
    "# print(li)\n"
   ]
  },
  {
   "cell_type": "code",
   "execution_count": 92,
   "metadata": {},
   "outputs": [
    {
     "name": "stdout",
     "output_type": "stream",
     "text": [
      "['A', 'B', 'R', 'E']\n",
      "['A', 'A', 'A', 'A', 'B', 'B', 'B', 'B', 'R', 'R', 'R', 'R', 'R', 'E', 'E', 'E', 'E']\n"
     ]
    }
   ],
   "source": [
    "print(li)\n",
    "print(s)"
   ]
  },
  {
   "cell_type": "code",
   "execution_count": 95,
   "metadata": {},
   "outputs": [
    {
     "name": "stdout",
     "output_type": "stream",
     "text": [
      "A ---> 4\n",
      "B ---> 4\n",
      "R ---> 5\n",
      "E ---> 4\n",
      "A --> 4\n",
      "B --> 4\n",
      "R --> 5\n",
      "E --> 4\n"
     ]
    }
   ],
   "source": [
    "for ch in li:\n",
    "    print(ch,\"--->\",s.count(ch))\n",
    "# for i in range(len(li)):\n",
    "#     print(li[i],\"-->\",s.count(li[i]))"
   ]
  },
  {
   "cell_type": "code",
   "execution_count": 101,
   "metadata": {},
   "outputs": [
    {
     "name": "stdout",
     "output_type": "stream",
     "text": [
      "['A', 'D', 'D', 'D', 'A', 'A', 'T', 'T', 'T', 'E', 'E', 'E', 'E', 'C', 'V', 'V', 'V']\n",
      "{'D', 'A', 'T', 'E', 'C', 'V'}\n",
      "D ---> 3\n",
      "A ---> 3\n",
      "T ---> 3\n",
      "E ---> 4\n",
      "C ---> 1\n",
      "V ---> 3\n"
     ]
    }
   ],
   "source": [
    "s=\"ADDDAATTTEEEECVVV\"\n",
    "d=list(s)\n",
    "n=set(s)\n",
    "for ch in n:\n",
    "    print(ch,\"--->\",d.count(ch))"
   ]
  },
  {
   "cell_type": "code",
   "execution_count": 106,
   "metadata": {},
   "outputs": [
    {
     "name": "stdout",
     "output_type": "stream",
     "text": [
      "A= 65\n",
      "Z= 90\n",
      "a= 97\n",
      "z= 122\n",
      "0= 48\n",
      "9= 57\n"
     ]
    }
   ],
   "source": [
    "print(\"A=\",ord('A'))\n",
    "print(\"Z=\",ord('Z'))\n",
    "print(\"a=\",ord('a'))\n",
    "print(\"z=\",ord('z'))\n",
    "print(\"0=\",ord('0'))\n",
    "print(\"9=\",ord('9'))"
   ]
  },
  {
   "cell_type": "code",
   "execution_count": 108,
   "metadata": {},
   "outputs": [
    {
     "name": "stdout",
     "output_type": "stream",
     "text": [
      "A\n",
      "Z\n",
      "a\n",
      "z\n",
      "0\n",
      "9\n"
     ]
    }
   ],
   "source": [
    "print(chr(65))\n",
    "print(chr(90))\n",
    "print(chr(97))\n",
    "print(chr(122))\n",
    "print(chr(48))\n",
    "print(chr(57))"
   ]
  },
  {
   "cell_type": "code",
   "execution_count": 113,
   "metadata": {},
   "outputs": [
    {
     "name": "stdout",
     "output_type": "stream",
     "text": [
      "q2a3g2\n",
      "qsadgi\n"
     ]
    }
   ],
   "source": [
    "# input:q2a3g2\n",
    "# output:qsadgi\n",
    "s=input()\n",
    "data=''\n",
    "for i in range(len(s)):\n",
    "    if(s[i].isalpha()):\n",
    "        data=data+s[i]\n",
    "    if(s[i].isnumeric()):\n",
    "        asc=ord(s[i-1])\n",
    "        data=data+chr(asc+int(s[i]))\n",
    "print(data)   "
   ]
  },
  {
   "cell_type": "code",
   "execution_count": null,
   "metadata": {},
   "outputs": [],
   "source": [
    "List=[]\n",
    "Tuple=()\n",
    "Dictionaries={}"
   ]
  },
  {
   "cell_type": "code",
   "execution_count": 118,
   "metadata": {},
   "outputs": [
    {
     "data": {
      "text/plain": [
       "[10, 1, 2, 3]"
      ]
     },
     "execution_count": 118,
     "metadata": {},
     "output_type": "execute_result"
    }
   ],
   "source": [
    "l=[10,1,2,3]\n",
    "l[0]\n",
    "l[0:]"
   ]
  },
  {
   "cell_type": "code",
   "execution_count": 119,
   "metadata": {},
   "outputs": [
    {
     "data": {
      "text/plain": [
       "['Harideep', 429, 'Vijay', 506, 56.7]"
      ]
     },
     "execution_count": 119,
     "metadata": {},
     "output_type": "execute_result"
    }
   ],
   "source": [
    "r=[\"Harideep\",429,\"Vijay\",506,56.7]\n",
    "r"
   ]
  },
  {
   "cell_type": "code",
   "execution_count": 122,
   "metadata": {},
   "outputs": [
    {
     "data": {
      "text/plain": [
       "['Geethanjali', 429, 'Vijay', 506, 56.7]"
      ]
     },
     "execution_count": 122,
     "metadata": {},
     "output_type": "execute_result"
    }
   ],
   "source": [
    "r[0]=\"Geethanjali\"\n",
    "r"
   ]
  },
  {
   "cell_type": "code",
   "execution_count": 126,
   "metadata": {},
   "outputs": [
    {
     "data": {
      "text/plain": [
       "['xyz', 'abc', 6, 5, 4, 3, 2, 1]"
      ]
     },
     "execution_count": 126,
     "metadata": {},
     "output_type": "execute_result"
    }
   ],
   "source": [
    "l2=[1,2,3,4,5,6,'abc','xyz']\n",
    "l2[::-1]"
   ]
  },
  {
   "cell_type": "code",
   "execution_count": 127,
   "metadata": {},
   "outputs": [
    {
     "data": {
      "text/plain": [
       "[4, 5, 6, 7, 8, 9]"
      ]
     },
     "execution_count": 127,
     "metadata": {},
     "output_type": "execute_result"
    }
   ],
   "source": [
    "l3=[4,5,6]\n",
    "l4=[7,8,9]\n",
    "l5=l3+l4\n",
    "l5"
   ]
  },
  {
   "cell_type": "code",
   "execution_count": 128,
   "metadata": {},
   "outputs": [
    {
     "data": {
      "text/plain": [
       "[4, 5, 6]"
      ]
     },
     "execution_count": 128,
     "metadata": {},
     "output_type": "execute_result"
    }
   ],
   "source": [
    "l3"
   ]
  },
  {
   "cell_type": "code",
   "execution_count": 129,
   "metadata": {},
   "outputs": [
    {
     "data": {
      "text/plain": [
       "3"
      ]
     },
     "execution_count": 129,
     "metadata": {},
     "output_type": "execute_result"
    }
   ],
   "source": [
    "len(l3)"
   ]
  },
  {
   "cell_type": "code",
   "execution_count": 130,
   "metadata": {},
   "outputs": [
    {
     "data": {
      "text/plain": [
       "6"
      ]
     },
     "execution_count": 130,
     "metadata": {},
     "output_type": "execute_result"
    }
   ],
   "source": [
    "max(l3)"
   ]
  },
  {
   "cell_type": "code",
   "execution_count": 131,
   "metadata": {},
   "outputs": [
    {
     "data": {
      "text/plain": [
       "4"
      ]
     },
     "execution_count": 131,
     "metadata": {},
     "output_type": "execute_result"
    }
   ],
   "source": [
    "min(l3)"
   ]
  },
  {
   "cell_type": "code",
   "execution_count": 132,
   "metadata": {},
   "outputs": [
    {
     "name": "stdout",
     "output_type": "stream",
     "text": [
      "['__add__', '__class__', '__contains__', '__delattr__', '__delitem__', '__dir__', '__doc__', '__eq__', '__format__', '__ge__', '__getattribute__', '__getitem__', '__gt__', '__hash__', '__iadd__', '__imul__', '__init__', '__init_subclass__', '__iter__', '__le__', '__len__', '__lt__', '__mul__', '__ne__', '__new__', '__reduce__', '__reduce_ex__', '__repr__', '__reversed__', '__rmul__', '__setattr__', '__setitem__', '__sizeof__', '__str__', '__subclasshook__', 'append', 'clear', 'copy', 'count', 'extend', 'index', 'insert', 'pop', 'remove', 'reverse', 'sort']\n"
     ]
    }
   ],
   "source": [
    "print(dir(list))"
   ]
  },
  {
   "cell_type": "code",
   "execution_count": 133,
   "metadata": {},
   "outputs": [
    {
     "data": {
      "text/plain": [
       "[4, 5, 6]"
      ]
     },
     "execution_count": 133,
     "metadata": {},
     "output_type": "execute_result"
    }
   ],
   "source": [
    "l3"
   ]
  },
  {
   "cell_type": "code",
   "execution_count": 134,
   "metadata": {},
   "outputs": [
    {
     "data": {
      "text/plain": [
       "15"
      ]
     },
     "execution_count": 134,
     "metadata": {},
     "output_type": "execute_result"
    }
   ],
   "source": [
    "sum(l3)"
   ]
  },
  {
   "cell_type": "code",
   "execution_count": 135,
   "metadata": {},
   "outputs": [
    {
     "data": {
      "text/plain": [
       "[4, 5, 6]"
      ]
     },
     "execution_count": 135,
     "metadata": {},
     "output_type": "execute_result"
    }
   ],
   "source": [
    "l3"
   ]
  },
  {
   "cell_type": "code",
   "execution_count": 136,
   "metadata": {},
   "outputs": [
    {
     "data": {
      "text/plain": [
       "[4, 5, 6, 7]"
      ]
     },
     "execution_count": 136,
     "metadata": {},
     "output_type": "execute_result"
    }
   ],
   "source": [
    "l3.append(7)\n",
    "l3"
   ]
  },
  {
   "cell_type": "code",
   "execution_count": 137,
   "metadata": {},
   "outputs": [
    {
     "data": {
      "text/plain": [
       "[4, 5, 6, 7, 'xyz']"
      ]
     },
     "execution_count": 137,
     "metadata": {},
     "output_type": "execute_result"
    }
   ],
   "source": [
    "l3.append(\"xyz\")\n",
    "l3"
   ]
  },
  {
   "cell_type": "code",
   "execution_count": 139,
   "metadata": {},
   "outputs": [],
   "source": [
    "l3.clear()"
   ]
  },
  {
   "cell_type": "code",
   "execution_count": 140,
   "metadata": {},
   "outputs": [
    {
     "data": {
      "text/plain": [
       "[]"
      ]
     },
     "execution_count": 140,
     "metadata": {},
     "output_type": "execute_result"
    }
   ],
   "source": [
    "l3"
   ]
  },
  {
   "cell_type": "code",
   "execution_count": 141,
   "metadata": {},
   "outputs": [
    {
     "data": {
      "text/plain": [
       "[4, 5, 6, 7]"
      ]
     },
     "execution_count": 141,
     "metadata": {},
     "output_type": "execute_result"
    }
   ],
   "source": [
    "l3=[4,5,6,7]\n",
    "l3"
   ]
  },
  {
   "cell_type": "code",
   "execution_count": 143,
   "metadata": {},
   "outputs": [
    {
     "data": {
      "text/plain": [
       "[]"
      ]
     },
     "execution_count": 143,
     "metadata": {},
     "output_type": "execute_result"
    }
   ],
   "source": [
    "l4=[]\n",
    "l4"
   ]
  },
  {
   "cell_type": "code",
   "execution_count": 145,
   "metadata": {},
   "outputs": [
    {
     "data": {
      "text/plain": [
       "[4, 5, 6, 7]"
      ]
     },
     "execution_count": 145,
     "metadata": {},
     "output_type": "execute_result"
    }
   ],
   "source": [
    "l4=l3.copy()\n",
    "l4"
   ]
  },
  {
   "cell_type": "code",
   "execution_count": 146,
   "metadata": {},
   "outputs": [
    {
     "data": {
      "text/plain": [
       "[1, 2, 3, 4, 5, 6]"
      ]
     },
     "execution_count": 146,
     "metadata": {},
     "output_type": "execute_result"
    }
   ],
   "source": [
    "l5=[1,2,3]\n",
    "l6=[4,5,6]\n",
    "l5.extend(l6)\n",
    "l5"
   ]
  },
  {
   "cell_type": "code",
   "execution_count": 169,
   "metadata": {},
   "outputs": [
    {
     "data": {
      "text/plain": [
       "list"
      ]
     },
     "execution_count": 169,
     "metadata": {},
     "output_type": "execute_result"
    }
   ],
   "source": [
    "l5=[1,2,3,2,4,5]\n",
    "l5.reverse()\n",
    "l5.sort()\n",
    "type(l5)"
   ]
  },
  {
   "cell_type": "code",
   "execution_count": 172,
   "metadata": {},
   "outputs": [
    {
     "data": {
      "text/plain": [
       "1"
      ]
     },
     "execution_count": 172,
     "metadata": {},
     "output_type": "execute_result"
    }
   ],
   "source": [
    "t=(1,2,3)\n",
    "len(t)\n",
    "max(t)\n",
    "min(t)"
   ]
  },
  {
   "cell_type": "code",
   "execution_count": 173,
   "metadata": {},
   "outputs": [
    {
     "data": {
      "text/plain": [
       "2"
      ]
     },
     "execution_count": 173,
     "metadata": {},
     "output_type": "execute_result"
    }
   ],
   "source": [
    "t[1]"
   ]
  },
  {
   "cell_type": "code",
   "execution_count": 174,
   "metadata": {},
   "outputs": [
    {
     "data": {
      "text/plain": [
       "(1, 2, 3)"
      ]
     },
     "execution_count": 174,
     "metadata": {},
     "output_type": "execute_result"
    }
   ],
   "source": [
    "t[0:]"
   ]
  },
  {
   "cell_type": "code",
   "execution_count": 175,
   "metadata": {},
   "outputs": [
    {
     "data": {
      "text/plain": [
       "(3, 2, 1)"
      ]
     },
     "execution_count": 175,
     "metadata": {},
     "output_type": "execute_result"
    }
   ],
   "source": [
    "t[::-1]"
   ]
  },
  {
   "cell_type": "code",
   "execution_count": 181,
   "metadata": {},
   "outputs": [
    {
     "data": {
      "text/plain": [
       "tuple"
      ]
     },
     "execution_count": 181,
     "metadata": {},
     "output_type": "execute_result"
    }
   ],
   "source": [
    "t=(1,'k','y',8.7,1,1,1)\n",
    "type(t)"
   ]
  },
  {
   "cell_type": "code",
   "execution_count": 179,
   "metadata": {},
   "outputs": [
    {
     "name": "stdout",
     "output_type": "stream",
     "text": [
      "['__add__', '__class__', '__contains__', '__delattr__', '__dir__', '__doc__', '__eq__', '__format__', '__ge__', '__getattribute__', '__getitem__', '__getnewargs__', '__gt__', '__hash__', '__init__', '__init_subclass__', '__iter__', '__le__', '__len__', '__lt__', '__mul__', '__ne__', '__new__', '__reduce__', '__reduce_ex__', '__repr__', '__rmul__', '__setattr__', '__sizeof__', '__str__', '__subclasshook__', 'count', 'index']\n"
     ]
    }
   ],
   "source": [
    "print(dir(tuple))"
   ]
  },
  {
   "cell_type": "code",
   "execution_count": 183,
   "metadata": {},
   "outputs": [
    {
     "data": {
      "text/plain": [
       "0"
      ]
     },
     "execution_count": 183,
     "metadata": {},
     "output_type": "execute_result"
    }
   ],
   "source": [
    "t.index(1)"
   ]
  },
  {
   "cell_type": "code",
   "execution_count": 184,
   "metadata": {},
   "outputs": [
    {
     "ename": "AttributeError",
     "evalue": "'tuple' object has no attribute 'pop'",
     "output_type": "error",
     "traceback": [
      "\u001b[1;31m---------------------------------------------------------------------------\u001b[0m",
      "\u001b[1;31mAttributeError\u001b[0m                            Traceback (most recent call last)",
      "\u001b[1;32m<ipython-input-184-f05cb48c71e5>\u001b[0m in \u001b[0;36m<module>\u001b[1;34m\u001b[0m\n\u001b[1;32m----> 1\u001b[1;33m \u001b[0mt\u001b[0m\u001b[1;33m.\u001b[0m\u001b[0mpop\u001b[0m\u001b[1;33m(\u001b[0m\u001b[1;33m)\u001b[0m\u001b[1;33m\u001b[0m\u001b[1;33m\u001b[0m\u001b[0m\n\u001b[0m",
      "\u001b[1;31mAttributeError\u001b[0m: 'tuple' object has no attribute 'pop'"
     ]
    }
   ],
   "source": [
    "t.pop()"
   ]
  },
  {
   "cell_type": "code",
   "execution_count": 185,
   "metadata": {},
   "outputs": [
    {
     "data": {
      "text/plain": [
       "(1, 'k', 'y', 8.7, 1, 1, 1)"
      ]
     },
     "execution_count": 185,
     "metadata": {},
     "output_type": "execute_result"
    }
   ],
   "source": [
    "t"
   ]
  },
  {
   "cell_type": "code",
   "execution_count": 188,
   "metadata": {},
   "outputs": [
    {
     "data": {
      "text/plain": [
       "tuple"
      ]
     },
     "execution_count": 188,
     "metadata": {},
     "output_type": "execute_result"
    }
   ],
   "source": [
    "l9=list(t)\n",
    "type(t)"
   ]
  },
  {
   "cell_type": "code",
   "execution_count": 190,
   "metadata": {},
   "outputs": [
    {
     "data": {
      "text/plain": [
       "list"
      ]
     },
     "execution_count": 190,
     "metadata": {},
     "output_type": "execute_result"
    }
   ],
   "source": [
    "type(l5)"
   ]
  },
  {
   "cell_type": "code",
   "execution_count": 192,
   "metadata": {},
   "outputs": [
    {
     "data": {
      "text/plain": [
       "tuple"
      ]
     },
     "execution_count": 192,
     "metadata": {},
     "output_type": "execute_result"
    }
   ],
   "source": [
    "t2=tuple(l5)\n",
    "type(t2)"
   ]
  },
  {
   "cell_type": "code",
   "execution_count": 194,
   "metadata": {},
   "outputs": [],
   "source": [
    "l5=[4,7,8,1,3,7]"
   ]
  },
  {
   "cell_type": "code",
   "execution_count": 195,
   "metadata": {},
   "outputs": [
    {
     "data": {
      "text/plain": [
       "[4, 7, 8, 1, 3, 7]"
      ]
     },
     "execution_count": 195,
     "metadata": {},
     "output_type": "execute_result"
    }
   ],
   "source": [
    "l5"
   ]
  },
  {
   "cell_type": "code",
   "execution_count": 203,
   "metadata": {},
   "outputs": [
    {
     "data": {
      "text/plain": [
       "[1, 3, 4, 7, 7, 8]"
      ]
     },
     "execution_count": 203,
     "metadata": {},
     "output_type": "execute_result"
    }
   ],
   "source": [
    "l5.sort(reverse=True)\n",
    "l5.sort()\n",
    "l5"
   ]
  },
  {
   "cell_type": "code",
   "execution_count": 204,
   "metadata": {},
   "outputs": [
    {
     "data": {
      "text/plain": [
       "[8, 7, 7, 4, 3, 1]"
      ]
     },
     "execution_count": 204,
     "metadata": {},
     "output_type": "execute_result"
    }
   ],
   "source": [
    "l5=sorted(l5,reverse=True)\n",
    "l5"
   ]
  },
  {
   "cell_type": "code",
   "execution_count": 205,
   "metadata": {},
   "outputs": [
    {
     "ename": "TypeError",
     "evalue": "'<' not supported between instances of 'str' and 'int'",
     "output_type": "error",
     "traceback": [
      "\u001b[1;31m---------------------------------------------------------------------------\u001b[0m",
      "\u001b[1;31mTypeError\u001b[0m                                 Traceback (most recent call last)",
      "\u001b[1;32m<ipython-input-205-06b75044665d>\u001b[0m in \u001b[0;36m<module>\u001b[1;34m\u001b[0m\n\u001b[0;32m      1\u001b[0m \u001b[0mli\u001b[0m\u001b[1;33m=\u001b[0m\u001b[1;33m[\u001b[0m\u001b[1;36m23\u001b[0m\u001b[1;33m,\u001b[0m\u001b[1;36m65\u001b[0m\u001b[1;33m,\u001b[0m\u001b[1;36m85\u001b[0m\u001b[1;33m,\u001b[0m\u001b[1;34m\"hello\"\u001b[0m\u001b[1;33m,\u001b[0m\u001b[1;34m\"hii\"\u001b[0m\u001b[1;33m]\u001b[0m\u001b[1;33m\u001b[0m\u001b[1;33m\u001b[0m\u001b[0m\n\u001b[1;32m----> 2\u001b[1;33m \u001b[0mli\u001b[0m\u001b[1;33m.\u001b[0m\u001b[0msort\u001b[0m\u001b[1;33m(\u001b[0m\u001b[1;33m)\u001b[0m\u001b[1;33m\u001b[0m\u001b[1;33m\u001b[0m\u001b[0m\n\u001b[0m",
      "\u001b[1;31mTypeError\u001b[0m: '<' not supported between instances of 'str' and 'int'"
     ]
    }
   ],
   "source": [
    "li=[23,65,85,\"hello\",\"hii\"]\n",
    "li.sort()"
   ]
  },
  {
   "cell_type": "code",
   "execution_count": 216,
   "metadata": {},
   "outputs": [
    {
     "data": {
      "text/plain": [
       "['e', 'h', 'h', 'l', 'l', 'n', 'o', 'o', 'p', 't', 'y']"
      ]
     },
     "execution_count": 216,
     "metadata": {},
     "output_type": "execute_result"
    }
   ],
   "source": [
    "li=\"hellopython\"\n",
    "li=list(li)\n",
    "li.sort()\n",
    "li\n",
    "\n"
   ]
  },
  {
   "cell_type": "code",
   "execution_count": 221,
   "metadata": {},
   "outputs": [
    {
     "data": {
      "text/plain": [
       "45"
      ]
     },
     "execution_count": 221,
     "metadata": {},
     "output_type": "execute_result"
    }
   ],
   "source": [
    "li=[78,25,9,7,4,1,5,6,45]\n",
    "li.sort()\n",
    "li[-2]"
   ]
  },
  {
   "cell_type": "code",
   "execution_count": 227,
   "metadata": {},
   "outputs": [
    {
     "data": {
      "text/plain": [
       "13"
      ]
     },
     "execution_count": 227,
     "metadata": {},
     "output_type": "execute_result"
    }
   ],
   "source": [
    "li=[78,25,7,9,4,1,5,6,45,58,12,16,17]\n",
    "len(li)\n",
    "# output:[1,4,7,9,75,5,6,45,58,12,16,17]\n"
   ]
  },
  {
   "cell_type": "code",
   "execution_count": 236,
   "metadata": {},
   "outputs": [
    {
     "data": {
      "text/plain": [
       "[1, 4, 7, 9, 25, 78, 5, 6, 45, 58, 12, 16, 17]"
      ]
     },
     "execution_count": 236,
     "metadata": {},
     "output_type": "execute_result"
    }
   ],
   "source": [
    "mid=len(li)//2\n",
    "li[mid]\n",
    "l_li=li[:mid]\n",
    "l_li.sort()\n",
    "l_li\n",
    "r_li=li[mid+1:]\n",
    "r_li\n",
    "data=l_li+r_li\n",
    "data\n",
    "data.insert(mid,li[mid])\n",
    "data"
   ]
  },
  {
   "cell_type": "code",
   "execution_count": null,
   "metadata": {},
   "outputs": [],
   "source": [
    "li=[78,25,7,9,4,1,5,6,45,58,12,16,17]\n",
    "output:[78,25,7,9,4,1,5,6,12,16,17,45,58]\n",
    "li=[78,25,7,9,4,1,5,6,45,58,12,16,17]\n",
    "output:[78,25,9,7,4,1,5,58,45,17,16,12,6]"
   ]
  },
  {
   "cell_type": "code",
   "execution_count": 1,
   "metadata": {},
   "outputs": [
    {
     "name": "stdout",
     "output_type": "stream",
     "text": [
      "['__class__', '__contains__', '__delattr__', '__delitem__', '__dir__', '__doc__', '__eq__', '__format__', '__ge__', '__getattribute__', '__getitem__', '__gt__', '__hash__', '__init__', '__init_subclass__', '__iter__', '__le__', '__len__', '__lt__', '__ne__', '__new__', '__reduce__', '__reduce_ex__', '__repr__', '__setattr__', '__setitem__', '__sizeof__', '__str__', '__subclasshook__', 'clear', 'copy', 'fromkeys', 'get', 'items', 'keys', 'pop', 'popitem', 'setdefault', 'update', 'values']\n"
     ]
    }
   ],
   "source": [
    "print(dir(dict))"
   ]
  },
  {
   "cell_type": "code",
   "execution_count": 6,
   "metadata": {},
   "outputs": [
    {
     "data": {
      "text/plain": [
       "{1: 'Harideep', 2: 'vijay', 3: 99}"
      ]
     },
     "execution_count": 6,
     "metadata": {},
     "output_type": "execute_result"
    }
   ],
   "source": [
    "dict1={1:\"Harideep\",2:\"vijay\",3:99}\n",
    "dict1"
   ]
  },
  {
   "cell_type": "code",
   "execution_count": 4,
   "metadata": {},
   "outputs": [],
   "source": [
    "dict1.clear()"
   ]
  },
  {
   "cell_type": "code",
   "execution_count": 7,
   "metadata": {},
   "outputs": [
    {
     "data": {
      "text/plain": [
       "{1: 'Harideep', 2: 'vijay', 3: 99}"
      ]
     },
     "execution_count": 7,
     "metadata": {},
     "output_type": "execute_result"
    }
   ],
   "source": [
    "dict1"
   ]
  },
  {
   "cell_type": "code",
   "execution_count": 9,
   "metadata": {},
   "outputs": [
    {
     "data": {
      "text/plain": [
       "{1: 'Harideep', 2: 'vijay', 3: 99}"
      ]
     },
     "execution_count": 9,
     "metadata": {},
     "output_type": "execute_result"
    }
   ],
   "source": [
    "dict2=dict1.copy()\n",
    "dict2"
   ]
  },
  {
   "cell_type": "code",
   "execution_count": 14,
   "metadata": {},
   "outputs": [],
   "source": [
    "dict1[5]=\"Hello\""
   ]
  },
  {
   "cell_type": "code",
   "execution_count": 15,
   "metadata": {
    "scrolled": true
   },
   "outputs": [
    {
     "data": {
      "text/plain": [
       "{1: 'Harideep', 2: 'vijay', 3: 99, 5: 'Hello'}"
      ]
     },
     "execution_count": 15,
     "metadata": {},
     "output_type": "execute_result"
    }
   ],
   "source": [
    "dict1"
   ]
  },
  {
   "cell_type": "code",
   "execution_count": 22,
   "metadata": {},
   "outputs": [
    {
     "data": {
      "text/plain": [
       "{'vijay': 101, 'kumar': 102, 'Hari': 103}"
      ]
     },
     "execution_count": 22,
     "metadata": {},
     "output_type": "execute_result"
    }
   ],
   "source": [
    "l1=[\"vijay\",\"kumar\",\"Hari\"]\n",
    "l2=[101,102,103]\n",
    "data={}\n",
    "for i in range(len(l1)):\n",
    "    data[l1[i]]=l2[i]\n",
    "data"
   ]
  },
  {
   "cell_type": "code",
   "execution_count": 10,
   "metadata": {},
   "outputs": [
    {
     "data": {
      "text/plain": [
       "101"
      ]
     },
     "execution_count": 10,
     "metadata": {},
     "output_type": "execute_result"
    }
   ],
   "source": [
    "data.get(\"vijay\")\n"
   ]
  },
  {
   "cell_type": "code",
   "execution_count": 11,
   "metadata": {},
   "outputs": [
    {
     "data": {
      "text/plain": [
       "dict_items([('vijay', 101), ('kumar', 102), ('Hari', 103)])"
      ]
     },
     "execution_count": 11,
     "metadata": {},
     "output_type": "execute_result"
    }
   ],
   "source": [
    "data.items()"
   ]
  },
  {
   "cell_type": "code",
   "execution_count": 12,
   "metadata": {},
   "outputs": [
    {
     "data": {
      "text/plain": [
       "dict_keys(['vijay', 'kumar', 'Hari'])"
      ]
     },
     "execution_count": 12,
     "metadata": {},
     "output_type": "execute_result"
    }
   ],
   "source": [
    "data.keys()"
   ]
  },
  {
   "cell_type": "code",
   "execution_count": 13,
   "metadata": {},
   "outputs": [
    {
     "data": {
      "text/plain": [
       "dict_values([101, 102, 103])"
      ]
     },
     "execution_count": 13,
     "metadata": {},
     "output_type": "execute_result"
    }
   ],
   "source": [
    "data.values()"
   ]
  },
  {
   "cell_type": "code",
   "execution_count": 24,
   "metadata": {},
   "outputs": [
    {
     "data": {
      "text/plain": [
       "{'vijay': 101, 'kumar': 102}"
      ]
     },
     "execution_count": 24,
     "metadata": {},
     "output_type": "execute_result"
    }
   ],
   "source": [
    "data.popitem()\n",
    "data"
   ]
  },
  {
   "cell_type": "code",
   "execution_count": 25,
   "metadata": {},
   "outputs": [
    {
     "data": {
      "text/plain": [
       "{1: 'One', 2: 'two'}"
      ]
     },
     "execution_count": 25,
     "metadata": {},
     "output_type": "execute_result"
    }
   ],
   "source": [
    "d={1:\"One\",2:\"three\"}\n",
    "d1={2:\"two\"}\n",
    "d.update(d1)\n",
    "d"
   ]
  },
  {
   "cell_type": "code",
   "execution_count": null,
   "metadata": {},
   "outputs": [],
   "source": []
  }
 ],
 "metadata": {
  "kernelspec": {
   "display_name": "Python 3",
   "language": "python",
   "name": "python3"
  },
  "language_info": {
   "codemirror_mode": {
    "name": "ipython",
    "version": 3
   },
   "file_extension": ".py",
   "mimetype": "text/x-python",
   "name": "python",
   "nbconvert_exporter": "python",
   "pygments_lexer": "ipython3",
   "version": "3.7.1"
  }
 },
 "nbformat": 4,
 "nbformat_minor": 2
}
