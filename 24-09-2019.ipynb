{
 "cells": [
  {
   "cell_type": "markdown",
   "metadata": {},
   "source": [
    "### This is python Workshop\n",
    "- This is basic and Advance Workshop\n",
    " - this is for CSE Brach only"
   ]
  },
  {
   "cell_type": "markdown",
   "metadata": {},
   "source": [
    "# Syllabus For Python Basic And Advance\n",
    "- Environment Setup(like Software Installation)\n",
    "- Introdution\n",
    "- Varaible\n",
    "- Datatypes\n",
    "- operators\n",
    "- Control Statements\n",
    " - selections(Conditionl)\n",
    " - loops\n",
    " - Transfer Statement(Jumping Statements)\n",
    "- Funtions\n",
    "- Strings\n",
    "- Data Strucures\n",
    " - List\n",
    " - Tuples\n",
    " - Dictionaries\n",
    "- Files\n",
    "- Numpy\n",
    "- pandas\n",
    "- matplot"
   ]
  },
  {
   "cell_type": "code",
   "execution_count": 37,
   "metadata": {},
   "outputs": [
    {
     "name": "stdout",
     "output_type": "stream",
     "text": [
      "Enter Strating Range:10\n",
      "Enter Ending Range:25\n",
      "11 13 15 17 19 21 23 25 "
     ]
    }
   ],
   "source": [
    "## even Number:\n",
    "#         10%2-->reminder\n",
    "#         10/2-->quotint\n",
    "#         499%600 --->min(499)\n",
    "#         499/900 -->0\n",
    "\n",
    "start=int(input(\"Enter Strating Range:\"))\n",
    "end=int(input(\"Enter Ending Range:\"))\n",
    "# for i in range(start,end+1):\n",
    "#     if(i%2!=1): # or i%2!=1\n",
    "#         print(i)\n",
    "for i in range(start,end+1):\n",
    "    if(i%2==1):# i%2!=0\n",
    "        print(i,end=\" \")"
   ]
  },
  {
   "cell_type": "code",
   "execution_count": 23,
   "metadata": {},
   "outputs": [
    {
     "name": "stdout",
     "output_type": "stream",
     "text": [
      "value position  0 --> 18\n",
      "value position  1 --> 5\n",
      "value position  2 --> 677\n",
      "value position  3 --> 88\n",
      "value position  4 --> 99\n",
      "value position  5 --> 45\n",
      "value position  6 --> 66\n",
      "value position  7 --> 11\n",
      "value position  8 --> 22\n",
      "value position  9 --> 33\n"
     ]
    }
   ],
   "source": [
    "## range(start,end,incre/decre)\n",
    "t=0\n",
    "for i in [18,5,677,88,99,45,66,11,22,33]:\n",
    "    print(\"value position \",t,\"-->\",i)\n",
    "    t=t+1"
   ]
  },
  {
   "cell_type": "code",
   "execution_count": null,
   "metadata": {},
   "outputs": [],
   "source": [
    "Task 1-->\n",
    "## input:5\n",
    "   output:5 * 1 = 5\n",
    "          5 * 2 = 10\n",
    "          5 * 3 =15\n",
    "        \n",
    "        \n",
    "        \n",
    "         5 * 10 = 50\n",
    "        \n",
    "            \n",
    "Task 2:\n",
    "    input:1990 \n",
    "          15000\n",
    "    output:1999 2004 2012 ....\n",
    "    \n",
    "Task 3:\n",
    "    input:1 10\n",
    "    expression:2+3 * (2^3)*(10) ,3+4 *(3^4)*(9), 4+5 *(4^5)*(8), 5+6 * (5^6)*(7)\n",
    "    output:85 736 8201"
   ]
  },
  {
   "cell_type": "code",
   "execution_count": 51,
   "metadata": {},
   "outputs": [
    {
     "data": {
      "text/plain": [
       "8201"
      ]
     },
     "execution_count": 51,
     "metadata": {},
     "output_type": "execute_result"
    }
   ],
   "source": [
    "8192+9"
   ]
  },
  {
   "cell_type": "code",
   "execution_count": 44,
   "metadata": {},
   "outputs": [
    {
     "name": "stdout",
     "output_type": "stream",
     "text": [
      "1\n",
      "10\n",
      "55\n"
     ]
    }
   ],
   "source": [
    "# input:1 10\n",
    "# outpu:55\n",
    "s=int(input())#1\n",
    "e=int(input())#10\n",
    "s1=0\n",
    "for i in range(s,e+1):\n",
    "    s1=s1+i # 0+1 -->1\n",
    "            # 1+2 -->3\n",
    "           # 3+3 -->6\n",
    "            # 6+4 -->10\n",
    "            # 10+5-->15\n",
    "            #15+6 -->21\n",
    "            # 21+7 -->28\n",
    "            #28+8 -->36\n",
    "            #36+9 -->45\n",
    "            #45+10-->55\n",
    "print(s1)"
   ]
  },
  {
   "cell_type": "code",
   "execution_count": 46,
   "metadata": {},
   "outputs": [
    {
     "name": "stdout",
     "output_type": "stream",
     "text": [
      "1\n",
      "50\n",
      "5  *  2  +  2  ^  1 ---> 12\n",
      "5  *  2  +  2  ^  2 ---> 14\n",
      "5  *  2  +  2  ^  3 ---> 18\n",
      "5  *  2  +  2  ^  4 ---> 26\n",
      "5  *  2  +  2  ^  5 ---> 42\n",
      "5  *  2  +  2  ^  6 ---> 74\n",
      "5  *  2  +  2  ^  7 ---> 138\n",
      "5  *  2  +  2  ^  8 ---> 266\n",
      "5  *  2  +  2  ^  9 ---> 522\n",
      "5  *  2  +  2  ^  10 ---> 1034\n",
      "5  *  2  +  2  ^  11 ---> 2058\n",
      "5  *  2  +  2  ^  12 ---> 4106\n",
      "5  *  2  +  2  ^  13 ---> 8202\n",
      "5  *  2  +  2  ^  14 ---> 16394\n",
      "5  *  2  +  2  ^  15 ---> 32778\n",
      "5  *  2  +  2  ^  16 ---> 65546\n",
      "5  *  2  +  2  ^  17 ---> 131082\n",
      "5  *  2  +  2  ^  18 ---> 262154\n",
      "5  *  2  +  2  ^  19 ---> 524298\n",
      "5  *  2  +  2  ^  20 ---> 1048586\n",
      "5  *  2  +  2  ^  21 ---> 2097162\n",
      "5  *  2  +  2  ^  22 ---> 4194314\n",
      "5  *  2  +  2  ^  23 ---> 8388618\n",
      "5  *  2  +  2  ^  24 ---> 16777226\n",
      "5  *  2  +  2  ^  25 ---> 33554442\n",
      "5  *  2  +  2  ^  26 ---> 67108874\n",
      "5  *  2  +  2  ^  27 ---> 134217738\n",
      "5  *  2  +  2  ^  28 ---> 268435466\n",
      "5  *  2  +  2  ^  29 ---> 536870922\n",
      "5  *  2  +  2  ^  30 ---> 1073741834\n",
      "5  *  2  +  2  ^  31 ---> 2147483658\n",
      "5  *  2  +  2  ^  32 ---> 4294967306\n",
      "5  *  2  +  2  ^  33 ---> 8589934602\n",
      "5  *  2  +  2  ^  34 ---> 17179869194\n",
      "5  *  2  +  2  ^  35 ---> 34359738378\n",
      "5  *  2  +  2  ^  36 ---> 68719476746\n",
      "5  *  2  +  2  ^  37 ---> 137438953482\n",
      "5  *  2  +  2  ^  38 ---> 274877906954\n",
      "5  *  2  +  2  ^  39 ---> 549755813898\n",
      "5  *  2  +  2  ^  40 ---> 1099511627786\n",
      "5  *  2  +  2  ^  41 ---> 2199023255562\n",
      "5  *  2  +  2  ^  42 ---> 4398046511114\n",
      "5  *  2  +  2  ^  43 ---> 8796093022218\n",
      "5  *  2  +  2  ^  44 ---> 17592186044426\n",
      "5  *  2  +  2  ^  45 ---> 35184372088842\n",
      "5  *  2  +  2  ^  46 ---> 70368744177674\n",
      "5  *  2  +  2  ^  47 ---> 140737488355338\n",
      "5  *  2  +  2  ^  48 ---> 281474976710666\n",
      "5  *  2  +  2  ^  49 ---> 562949953421322\n",
      "5  *  2  +  2  ^  50 ---> 1125899906842634\n",
      "Sum= 2251799813685746\n"
     ]
    }
   ],
   "source": [
    "# input:1 50\n",
    "# explanation:5*2+2^1 5*2+2^2 5*2+2^3 ...... 5*2+2^50 -\n",
    "# output: 12 14 18 .....\n",
    "s=int(input())\n",
    "e=int(input())\n",
    "s1=0\n",
    "n1=5\n",
    "n2=2\n",
    "for i in range(s,e+1):\n",
    "    expre=n1*n2+n2**i\n",
    "    print(n1,\" * \",n2,\" + \",n2,\" ^ \",i,\"--->\",expre)\n",
    "    s1=s1+expre\n",
    "#     print(expre)\n",
    "print(\"Sum=\",s1)"
   ]
  },
  {
   "cell_type": "code",
   "execution_count": 1,
   "metadata": {},
   "outputs": [
    {
     "name": "stdout",
     "output_type": "stream",
     "text": [
      "5\n",
      "Enter n value: 28\n",
      "1 2 4 7 14 28 \n",
      "Factor's sum = 56\n",
      "Enter n value: 522\n",
      "1 2 3 6 9 18 29 58 87 174 261 522 \n",
      "Factor's sum = 1170\n",
      "Enter n value: 122\n",
      "1 2 61 122 \n",
      "Factor's sum = 186\n",
      "Enter n value: 111\n",
      "1 3 37 111 \n",
      "Factor's sum = 152\n",
      "Enter n value: 600\n",
      "1 2 3 4 5 6 8 10 12 15 20 24 25 30 40 50 60 75 100 120 150 200 300 600 \n",
      "Factor's sum = 1860\n"
     ]
    }
   ],
   "source": [
    "t=int(input())\n",
    "for i in range(1,t+1):\n",
    "    n=int(input(\"Enter n value: \"))\n",
    "    s1=0\n",
    "    for i in range(1,n+1):\n",
    "        if n%i==0:\n",
    "            print(i,end=\" \")\n",
    "            s1=s1+i\n",
    "    print(\"\\nFactor's sum =\",s1)\n"
   ]
  },
  {
   "cell_type": "code",
   "execution_count": null,
   "metadata": {},
   "outputs": [],
   "source": [
    "22/2\n",
    "11*3+1\n",
    "34/2\n",
    "17*3+1\n",
    "52/2\n",
    "26/2\n",
    "13*3+1\n",
    "40/2\n",
    "20/2\n",
    "10/2\n",
    "5*3+1\n",
    "16/2\n",
    "8/2\n",
    "4/2\n",
    "2/2\n",
    "1\n",
    "\n",
    "\n",
    "16\n",
    "\n",
    "\n",
    "22 ----> 16\n",
    "9 -----> 20\n",
    "7 ----->17\n",
    "\n",
    "\n",
    "\n",
    "\n",
    "\n"
   ]
  },
  {
   "cell_type": "code",
   "execution_count": 75,
   "metadata": {},
   "outputs": [
    {
     "name": "stdout",
     "output_type": "stream",
     "text": [
      "Enter No of Test Cases:3\n",
      "Enter n value: 22\n",
      "Cycle count=  16\n",
      "Enter n value: 9\n",
      "Cycle count=  20\n",
      "Enter n value: 7\n",
      "Cycle count=  17\n"
     ]
    }
   ],
   "source": [
    "test_cases=int(input(\"Enter No of Test Cases:\"))\n",
    "for i in range(1,test_cases+1):\n",
    "    n=int(input(\"Enter n value: \"))\n",
    "    count=1\n",
    "    while(n!=1):\n",
    "        if(n%2==0):\n",
    "    #         print(n,\"-->\",n,\"/2-->\",end=\" \")\n",
    "            n=n//2\n",
    "    #         print(n)\n",
    "        else:\n",
    "    #         print(n,\"-->\",n,\"*3+1-->\",end=\" \")\n",
    "            n=n*3+1\n",
    "    #         print(n)\n",
    "        count=count+1\n",
    "    print(\"Cycle count= \",count)"
   ]
  },
  {
   "cell_type": "code",
   "execution_count": null,
   "metadata": {},
   "outputs": [],
   "source": [
    "56778\n",
    "\n",
    "Last digit=8\n",
    "First digit=5\n",
    "\n",
    "\n",
    "187932\n",
    "\n",
    "Last digit=2\n",
    "First digit=1\n",
    "\n",
    "\n",
    "123567\n",
    "Digit Sum=24\n"
   ]
  },
  {
   "cell_type": "code",
   "execution_count": null,
   "metadata": {},
   "outputs": [],
   "source": [
    "n=1401601499\n",
    "\n",
    "\n",
    "1*1+4*2+0*3+1*4+............+9*10\n",
    "\n",
    "sum=253/11---->0    \"Legal ISBN\"\n",
    "\n",
    "         \"Illegal ISBN\"\n",
    "    \n",
    "    \n",
    "    \n",
    "    \n",
    "\"Illegal isbn\"\n",
    "\n",
    "\n",
    "\n"
   ]
  },
  {
   "cell_type": "code",
   "execution_count": null,
   "metadata": {},
   "outputs": [],
   "source": [
    "Bricks=13    \n",
    "x         y\n",
    "1         2        10\n",
    "2         4         4\n",
    "3         1           y\n",
    "\n",
    "Bricks=20\n",
    "\n",
    "x     y\n",
    "1     2       17\n",
    "2     4       11\n",
    "3     6        2\n",
    "\n",
    "x\n",
    "length=180\n",
    "\n",
    "H     W\n",
    "320  280       --->Crop it\n",
    "\n",
    "H      W\n",
    "180   180        --->Accepted\n",
    "\n",
    "\n",
    "H      W\n",
    "\n",
    "120   340     --->upload another\n",
    "\n",
    "\n",
    "\n",
    "250   650\n",
    "\n",
    "\n",
    "\n",
    "\n",
    "\n",
    "\n",
    "\n",
    "\n",
    "\n",
    "\n",
    "\n",
    "\n",
    "\n",
    "\n",
    "\n",
    "\n"
   ]
  },
  {
   "cell_type": "code",
   "execution_count": 72,
   "metadata": {},
   "outputs": [
    {
     "name": "stdout",
     "output_type": "stream",
     "text": [
      "Enter No of Test Cases:3\n",
      "Enter h value: 180\n",
      "Enter w value: 180\n",
      "accepted\n",
      "Enter h value: 200\n",
      "Enter w value: 350\n",
      "Crop it\n",
      "Enter h value: 120\n",
      "Enter w value: 500\n",
      "upload another\n"
     ]
    }
   ],
   "source": [
    "t_cases=int(input(\"Enter No of Test Cases:\"))\n",
    "for i in range(1,t_cases+1):\n",
    "    length=180\n",
    "    h=int(input(\"Enter h value: \"))\n",
    "    w=int(input(\"Enter w value: \"))\n",
    "    if(w>length and h>length):\n",
    "        print(\"Crop it\")\n",
    "    elif(w==length and h==length):\n",
    "        print(\"accepted\")\n",
    "    else:\n",
    "        print(\"upload another\")"
   ]
  },
  {
   "cell_type": "code",
   "execution_count": 10,
   "metadata": {},
   "outputs": [
    {
     "name": "stdout",
     "output_type": "stream",
     "text": [
      "10,9,8,7,6,5,4,3,2,1"
     ]
    }
   ],
   "source": [
    "for i in range(10,0,-1):\n",
    "    print(i,end=\"\")\n",
    "    if(i>1):\n",
    "        print(end=\",\")\n"
   ]
  },
  {
   "cell_type": "code",
   "execution_count": 2,
   "metadata": {},
   "outputs": [
    {
     "name": "stdout",
     "output_type": "stream",
     "text": [
      "10\n"
     ]
    }
   ],
   "source": [
    "n=1401601499\n",
    "count=0\n",
    "while(n!=0):\n",
    "    n=n//10\n",
    "    count=count+1\n",
    "print(count)"
   ]
  },
  {
   "cell_type": "code",
   "execution_count": null,
   "metadata": {},
   "outputs": [],
   "source": []
  }
 ],
 "metadata": {
  "kernelspec": {
   "display_name": "Python 3",
   "language": "python",
   "name": "python3"
  },
  "language_info": {
   "codemirror_mode": {
    "name": "ipython",
    "version": 3
   },
   "file_extension": ".py",
   "mimetype": "text/x-python",
   "name": "python",
   "nbconvert_exporter": "python",
   "pygments_lexer": "ipython3",
   "version": "3.7.1"
  }
 },
 "nbformat": 4,
 "nbformat_minor": 2
}
