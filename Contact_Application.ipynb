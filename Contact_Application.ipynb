{
 "cells": [
  {
   "cell_type": "code",
   "execution_count": 1,
   "metadata": {},
   "outputs": [],
   "source": [
    "import contact"
   ]
  },
  {
   "cell_type": "code",
   "execution_count": 2,
   "metadata": {},
   "outputs": [
    {
     "name": "stdout",
     "output_type": "stream",
     "text": [
      "Contact Added/Saved Sucessfully....!!!!\n"
     ]
    }
   ],
   "source": [
    "contact.Add_contact(\"Geethanjali\",987456321)"
   ]
  },
  {
   "cell_type": "code",
   "execution_count": 3,
   "metadata": {},
   "outputs": [
    {
     "name": "stdout",
     "output_type": "stream",
     "text": [
      "1 .Name= Geethanjali , phoneNumber= 987456321\n"
     ]
    }
   ],
   "source": [
    "contact.Display_contact()"
   ]
  },
  {
   "cell_type": "code",
   "execution_count": 4,
   "metadata": {},
   "outputs": [
    {
     "name": "stdout",
     "output_type": "stream",
     "text": [
      "name= Geethanjali phoneNumber= 987456321\n"
     ]
    }
   ],
   "source": [
    "contact.Search_contact(\"Geethanjali\")"
   ]
  },
  {
   "cell_type": "code",
   "execution_count": 5,
   "metadata": {},
   "outputs": [
    {
     "name": "stdout",
     "output_type": "stream",
     "text": [
      "Contact Updated Sucessfully...!!!\n"
     ]
    }
   ],
   "source": [
    "contact.Update_contact(\"Geethanjali\",654123697)"
   ]
  },
  {
   "cell_type": "code",
   "execution_count": 6,
   "metadata": {},
   "outputs": [
    {
     "name": "stdout",
     "output_type": "stream",
     "text": [
      "1 .Name= Geethanjali , phoneNumber= 654123697\n"
     ]
    }
   ],
   "source": [
    "contact.Display_contact()"
   ]
  },
  {
   "cell_type": "code",
   "execution_count": 8,
   "metadata": {},
   "outputs": [
    {
     "name": "stdout",
     "output_type": "stream",
     "text": [
      "Contact Added/Saved Sucessfully....!!!!\n"
     ]
    }
   ],
   "source": [
    "from Application import Contact_Apllication\n",
    "Contact_Apllication.Add_contact(\"CSE\",654126987)"
   ]
  },
  {
   "cell_type": "markdown",
   "metadata": {},
   "source": [
    "### Files\n",
    "    - Read,Write,Append,Update,Delete\n",
    "    - modes\n",
    "        - read -->r\n",
    "        - write -->w\n",
    "        - Append -->a"
   ]
  },
  {
   "cell_type": "code",
   "execution_count": null,
   "metadata": {},
   "outputs": [],
   "source": []
  }
 ],
 "metadata": {
  "kernelspec": {
   "display_name": "Python 3",
   "language": "python",
   "name": "python3"
  },
  "language_info": {
   "codemirror_mode": {
    "name": "ipython",
    "version": 3
   },
   "file_extension": ".py",
   "mimetype": "text/x-python",
   "name": "python",
   "nbconvert_exporter": "python",
   "pygments_lexer": "ipython3",
   "version": "3.7.1"
  }
 },
 "nbformat": 4,
 "nbformat_minor": 2
}
