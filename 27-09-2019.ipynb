{
 "cells": [
  {
   "cell_type": "markdown",
   "metadata": {},
   "source": [
    "# Day Objectives\n",
    " - Dictionaries\n",
    " - Modules\n",
    " - Files\n",
    " - Github\n",
    " - Hacker Earth Environment"
   ]
  },
  {
   "cell_type": "code",
   "execution_count": 1,
   "metadata": {},
   "outputs": [],
   "source": [
    "dict1={}"
   ]
  },
  {
   "cell_type": "code",
   "execution_count": 2,
   "metadata": {},
   "outputs": [
    {
     "data": {
      "text/plain": [
       "{}"
      ]
     },
     "execution_count": 2,
     "metadata": {},
     "output_type": "execute_result"
    }
   ],
   "source": [
    "dict1"
   ]
  },
  {
   "cell_type": "code",
   "execution_count": 3,
   "metadata": {},
   "outputs": [
    {
     "data": {
      "text/plain": [
       "dict"
      ]
     },
     "execution_count": 3,
     "metadata": {},
     "output_type": "execute_result"
    }
   ],
   "source": [
    "type(dict1)"
   ]
  },
  {
   "cell_type": "code",
   "execution_count": 17,
   "metadata": {},
   "outputs": [],
   "source": [
    "dict1={\"Name\":\"Harideep\",\"Gender\":\"Male\",\"Age\":26}"
   ]
  },
  {
   "cell_type": "code",
   "execution_count": 5,
   "metadata": {},
   "outputs": [
    {
     "name": "stdout",
     "output_type": "stream",
     "text": [
      "{'Name': 'Harideep', 'Gender': 'Male', 'Age': 26}\n"
     ]
    }
   ],
   "source": [
    "print(dict1)"
   ]
  },
  {
   "cell_type": "code",
   "execution_count": 6,
   "metadata": {},
   "outputs": [
    {
     "data": {
      "text/plain": [
       "'Harideep'"
      ]
     },
     "execution_count": 6,
     "metadata": {},
     "output_type": "execute_result"
    }
   ],
   "source": [
    "dict1[\"Name\"]"
   ]
  },
  {
   "cell_type": "code",
   "execution_count": 8,
   "metadata": {},
   "outputs": [],
   "source": [
    "dict1[\"Age\"]=36"
   ]
  },
  {
   "cell_type": "code",
   "execution_count": 9,
   "metadata": {},
   "outputs": [
    {
     "data": {
      "text/plain": [
       "{'Name': 'Harideep', 'Gender': 'Male', 'Age': 36}"
      ]
     },
     "execution_count": 9,
     "metadata": {},
     "output_type": "execute_result"
    }
   ],
   "source": [
    "dict1"
   ]
  },
  {
   "cell_type": "code",
   "execution_count": 10,
   "metadata": {},
   "outputs": [],
   "source": [
    "dict1[\"Name\"]=\"Vijay\""
   ]
  },
  {
   "cell_type": "code",
   "execution_count": 11,
   "metadata": {},
   "outputs": [
    {
     "data": {
      "text/plain": [
       "{'Name': 'Vijay', 'Gender': 'Male', 'Age': 36}"
      ]
     },
     "execution_count": 11,
     "metadata": {},
     "output_type": "execute_result"
    }
   ],
   "source": [
    "dict1"
   ]
  },
  {
   "cell_type": "code",
   "execution_count": 12,
   "metadata": {},
   "outputs": [
    {
     "name": "stdout",
     "output_type": "stream",
     "text": [
      "['__class__', '__contains__', '__delattr__', '__delitem__', '__dir__', '__doc__', '__eq__', '__format__', '__ge__', '__getattribute__', '__getitem__', '__gt__', '__hash__', '__init__', '__init_subclass__', '__iter__', '__le__', '__len__', '__lt__', '__ne__', '__new__', '__reduce__', '__reduce_ex__', '__repr__', '__setattr__', '__setitem__', '__sizeof__', '__str__', '__subclasshook__', 'clear', 'copy', 'fromkeys', 'get', 'items', 'keys', 'pop', 'popitem', 'setdefault', 'update', 'values']\n"
     ]
    }
   ],
   "source": [
    "print(dir(dict))"
   ]
  },
  {
   "cell_type": "code",
   "execution_count": 16,
   "metadata": {},
   "outputs": [
    {
     "data": {
      "text/plain": [
       "{}"
      ]
     },
     "execution_count": 16,
     "metadata": {},
     "output_type": "execute_result"
    }
   ],
   "source": [
    "dict1"
   ]
  },
  {
   "cell_type": "code",
   "execution_count": 14,
   "metadata": {},
   "outputs": [],
   "source": [
    "dict1.clear()"
   ]
  },
  {
   "cell_type": "code",
   "execution_count": 15,
   "metadata": {},
   "outputs": [
    {
     "data": {
      "text/plain": [
       "{}"
      ]
     },
     "execution_count": 15,
     "metadata": {},
     "output_type": "execute_result"
    }
   ],
   "source": [
    "dict1"
   ]
  },
  {
   "cell_type": "code",
   "execution_count": 18,
   "metadata": {},
   "outputs": [
    {
     "data": {
      "text/plain": [
       "{'Name': 'Harideep', 'Gender': 'Male', 'Age': 26}"
      ]
     },
     "execution_count": 18,
     "metadata": {},
     "output_type": "execute_result"
    }
   ],
   "source": [
    "dict1"
   ]
  },
  {
   "cell_type": "code",
   "execution_count": 20,
   "metadata": {},
   "outputs": [],
   "source": [
    "dict2=dict1.copy()"
   ]
  },
  {
   "cell_type": "code",
   "execution_count": 21,
   "metadata": {},
   "outputs": [
    {
     "data": {
      "text/plain": [
       "{'Name': 'Harideep', 'Gender': 'Male', 'Age': 26}"
      ]
     },
     "execution_count": 21,
     "metadata": {},
     "output_type": "execute_result"
    }
   ],
   "source": [
    "dict2"
   ]
  },
  {
   "cell_type": "code",
   "execution_count": 24,
   "metadata": {},
   "outputs": [
    {
     "data": {
      "text/plain": [
       "{'c': None, 'd': None, 'e': None, 'a': None, 'b': None}"
      ]
     },
     "execution_count": 24,
     "metadata": {},
     "output_type": "execute_result"
    }
   ],
   "source": [
    "keys={'a','b','c','d','e'}\n",
    "dict3={}\n",
    "dict3.fromkeys(keys)"
   ]
  },
  {
   "cell_type": "code",
   "execution_count": 25,
   "metadata": {},
   "outputs": [
    {
     "data": {
      "text/plain": [
       "{'Name': 'Harideep', 'Gender': 'Male', 'Age': 26}"
      ]
     },
     "execution_count": 25,
     "metadata": {},
     "output_type": "execute_result"
    }
   ],
   "source": [
    "dict1"
   ]
  },
  {
   "cell_type": "code",
   "execution_count": 28,
   "metadata": {},
   "outputs": [
    {
     "data": {
      "text/plain": [
       "'Male'"
      ]
     },
     "execution_count": 28,
     "metadata": {},
     "output_type": "execute_result"
    }
   ],
   "source": [
    "dict1.get('Gender')"
   ]
  },
  {
   "cell_type": "code",
   "execution_count": 29,
   "metadata": {},
   "outputs": [
    {
     "data": {
      "text/plain": [
       "dict_items([('Name', 'Harideep'), ('Gender', 'Male'), ('Age', 26)])"
      ]
     },
     "execution_count": 29,
     "metadata": {},
     "output_type": "execute_result"
    }
   ],
   "source": [
    "dict1.items()"
   ]
  },
  {
   "cell_type": "code",
   "execution_count": 30,
   "metadata": {},
   "outputs": [
    {
     "data": {
      "text/plain": [
       "dict_keys(['Name', 'Gender', 'Age'])"
      ]
     },
     "execution_count": 30,
     "metadata": {},
     "output_type": "execute_result"
    }
   ],
   "source": [
    "dict1.keys()"
   ]
  },
  {
   "cell_type": "code",
   "execution_count": 31,
   "metadata": {},
   "outputs": [
    {
     "data": {
      "text/plain": [
       "dict_values(['Harideep', 'Male', 26])"
      ]
     },
     "execution_count": 31,
     "metadata": {},
     "output_type": "execute_result"
    }
   ],
   "source": [
    "dict1.values()"
   ]
  },
  {
   "cell_type": "code",
   "execution_count": 32,
   "metadata": {},
   "outputs": [
    {
     "data": {
      "text/plain": [
       "26"
      ]
     },
     "execution_count": 32,
     "metadata": {},
     "output_type": "execute_result"
    }
   ],
   "source": [
    "dict1.pop('Age')"
   ]
  },
  {
   "cell_type": "code",
   "execution_count": 33,
   "metadata": {},
   "outputs": [
    {
     "data": {
      "text/plain": [
       "{'Name': 'Harideep', 'Gender': 'Male'}"
      ]
     },
     "execution_count": 33,
     "metadata": {},
     "output_type": "execute_result"
    }
   ],
   "source": [
    "dict1"
   ]
  },
  {
   "cell_type": "code",
   "execution_count": 35,
   "metadata": {},
   "outputs": [
    {
     "data": {
      "text/plain": [
       "('Gender', 'Male')"
      ]
     },
     "execution_count": 35,
     "metadata": {},
     "output_type": "execute_result"
    }
   ],
   "source": [
    "dict1.popitem()"
   ]
  },
  {
   "cell_type": "code",
   "execution_count": 36,
   "metadata": {},
   "outputs": [
    {
     "data": {
      "text/plain": [
       "{'Name': 'Harideep'}"
      ]
     },
     "execution_count": 36,
     "metadata": {},
     "output_type": "execute_result"
    }
   ],
   "source": [
    "dict1"
   ]
  },
  {
   "cell_type": "code",
   "execution_count": 37,
   "metadata": {},
   "outputs": [],
   "source": [
    "dict1.update()"
   ]
  },
  {
   "cell_type": "code",
   "execution_count": 38,
   "metadata": {},
   "outputs": [
    {
     "data": {
      "text/plain": [
       "{'Name': 'Harideep'}"
      ]
     },
     "execution_count": 38,
     "metadata": {},
     "output_type": "execute_result"
    }
   ],
   "source": [
    "dict1"
   ]
  },
  {
   "cell_type": "code",
   "execution_count": 73,
   "metadata": {
    "scrolled": true
   },
   "outputs": [
    {
     "name": "stdout",
     "output_type": "stream",
     "text": [
      "Enter String:AfAdddddddddfaGaAAaaaaaaAArrr\n",
      "['A', 'f', 'A', 'd', 'd', 'd', 'd', 'd', 'd', 'd', 'd', 'd', 'f', 'a', 'G', 'a', 'A', 'A', 'a', 'a', 'a', 'a', 'a', 'a', 'A', 'A', 'r', 'r', 'r']\n",
      "{'A', 'G', 'd', 'a', 'r', 'f'}\n",
      "{'A': 6, 'G': 1, 'd': 9, 'a': 8, 'r': 3, 'f': 2}\n",
      "\n",
      "{6: 'A', 1: 'G', 9: 'd', 8: 'a', 3: 'r', 2: 'f'}\n"
     ]
    }
   ],
   "source": [
    "# # Frequency of element\n",
    "# s=\"AfAddfaGaAAAArrr\"\n",
    "# data={a:2,A:6,f:2,d:2.....}\n",
    "#key-->only alphabets\n",
    "#values --->count\n",
    "s=input(\"Enter String:\")\n",
    "o_l=list(s)\n",
    "d_l=set(o_l)\n",
    "print(o_l)\n",
    "print(d_l)\n",
    "freq_data1={}\n",
    "freq_data2={}\n",
    "for key in d_l:\n",
    "    freq_data1[key]=o_l.count(key)\n",
    "print(freq_data1)\n",
    "for key in d_l:\n",
    "    freq_data2[o_l.count(key)]=key\n",
    "print()\n",
    "print(freq_data2)"
   ]
  },
  {
   "cell_type": "code",
   "execution_count": 85,
   "metadata": {},
   "outputs": [
    {
     "name": "stdout",
     "output_type": "stream",
     "text": [
      "{6: 'A', 1: 'G', 9: 'd', 8: 'a', 3: 'r', 2: 'f'}\n",
      "9\n",
      "9 ---> d\n",
      "1 ---> G\n"
     ]
    }
   ],
   "source": [
    "print(freq_data2)\n",
    "key_list=list(freq_data2.keys())\n",
    "value_list=list(freq_data2.values())\n",
    "# print(key_list)\n",
    "# print(value_list)\n",
    "max1=max(key_list)\n",
    "min1=min(key_list)\n",
    "print(m)\n",
    "for key,value in freq_data2.items():\n",
    "    if(max1==key):\n",
    "        result_max=value\n",
    "    if(min1==key):\n",
    "        result_min=value\n",
    "print(max1,\"--->\",result_max)\n",
    "print(min1,\"--->\",result_min)\n",
    "        "
   ]
  },
  {
   "cell_type": "code",
   "execution_count": 58,
   "metadata": {},
   "outputs": [
    {
     "name": "stdout",
     "output_type": "stream",
     "text": [
      "AfAddfaGaAAAArrr\n",
      "['A', 'f', 'A', 'd', 'd', 'f', 'a', 'G', 'a', 'A', 'A', 'A', 'A', 'r', 'r', 'r']\n",
      "{'A', 'G', 'd', 'a', 'r', 'f'}\n",
      "6 : A\n",
      "1 : G\n",
      "2 : d\n",
      "2 : a\n",
      "3 : r\n",
      "2 : f\n"
     ]
    },
    {
     "data": {
      "text/plain": [
       "{6: 'A', 1: 'G', 2: 'f', 3: 'r'}"
      ]
     },
     "execution_count": 58,
     "metadata": {},
     "output_type": "execute_result"
    }
   ],
   "source": [
    "s=input()\n",
    "data={}\n",
    "o_l=list(s)\n",
    "d_l=set(o_l)\n",
    "print(o_l)\n",
    "print(d_l)\n",
    "for key in d_l:\n",
    "    data[o_l.count(key)]=key\n",
    "    print(o_l.count(key),\":\",key)\n",
    "data"
   ]
  },
  {
   "cell_type": "code",
   "execution_count": 1,
   "metadata": {},
   "outputs": [
    {
     "name": "stdout",
     "output_type": "stream",
     "text": [
      "Contact Added/Saved Sucessfully....!!!!\n"
     ]
    }
   ],
   "source": [
    "##Contact Application\n",
    "# key-->name\n",
    "# value-->phone number\n",
    "# operations:\n",
    "#   - Add Contact \n",
    "#         ->check whether contact already exits or not\n",
    "#   - Display\n",
    "#         ->check whether contact emty or not\n",
    "#   - Delete Contact\n",
    "#         ->check whether contact emty or not\n",
    "#   - Update Contact\n",
    "#         ->Already Exits in contacts\n",
    "#    - Search Contact\n",
    "#         name or ph_no\n",
    "#         -Yes Existed\n",
    "#         -not Existed\n",
    "contact={}\n",
    "def Add_contact(name,ph_no):\n",
    "    if(name in contact.keys()):\n",
    "        print(name,\"Conact Already Exits...!!!\")\n",
    "    else:\n",
    "        \n",
    "        contact[name]=ph_no\n",
    "        print(\"Contact Added/Saved Sucessfully....!!!!\")\n",
    "Add_contact(\"vijay\",789456123)\n"
   ]
  },
  {
   "cell_type": "code",
   "execution_count": 10,
   "metadata": {},
   "outputs": [
    {
     "name": "stdout",
     "output_type": "stream",
     "text": [
      "Contacts is Emty...!!!\n"
     ]
    }
   ],
   "source": [
    "def Display_contact():\n",
    "    i=0\n",
    "    if(len(contact)==0):\n",
    "        print(\"Contacts is Emty...!!!\")\n",
    "    else:\n",
    "        if(i<len(contact)):\n",
    "            for name,phone in contact.items():\n",
    "                print(i+1,\".Name=\",name,\", phoneNumber=\",phone)\n",
    "                i=i+1\n",
    "Display_contact()\n"
   ]
  },
  {
   "cell_type": "code",
   "execution_count": 4,
   "metadata": {},
   "outputs": [
    {
     "name": "stdout",
     "output_type": "stream",
     "text": [
      "vijay Does not  exits in contact list...!!!\n"
     ]
    }
   ],
   "source": [
    "def Delete_contact(name):\n",
    "    if(name in contact.keys()):\n",
    "        contact.pop(name)\n",
    "        print(name,\"Deleted Sucessfully...!!\")\n",
    "    else:\n",
    "        print(name,\"Does not  exits in contact list...!!!\")\n",
    "Delete_contact(\"vijay\")"
   ]
  },
  {
   "cell_type": "code",
   "execution_count": 16,
   "metadata": {},
   "outputs": [
    {
     "name": "stdout",
     "output_type": "stream",
     "text": [
      "Contact Added/Saved Sucessfully....!!!!\n"
     ]
    }
   ],
   "source": [
    "Add_contact(\"deepu\",7456321489)"
   ]
  },
  {
   "cell_type": "code",
   "execution_count": 7,
   "metadata": {},
   "outputs": [
    {
     "data": {
      "text/plain": [
       "{'hari': 987456321}"
      ]
     },
     "execution_count": 7,
     "metadata": {},
     "output_type": "execute_result"
    }
   ],
   "source": [
    "contact"
   ]
  },
  {
   "cell_type": "code",
   "execution_count": 8,
   "metadata": {},
   "outputs": [
    {
     "name": "stdout",
     "output_type": "stream",
     "text": [
      "hari Deleted Sucessfully...!!\n"
     ]
    }
   ],
   "source": [
    "Delete_contact(\"hari\")"
   ]
  },
  {
   "cell_type": "code",
   "execution_count": 17,
   "metadata": {},
   "outputs": [
    {
     "name": "stdout",
     "output_type": "stream",
     "text": [
      "1 .Name= hari , phoneNumber= 987456321\n",
      "2 .Name= vijay , phoneNumber= 789456\n",
      "3 .Name= deepu , phoneNumber= 7456321489\n"
     ]
    }
   ],
   "source": [
    "Display_contact()"
   ]
  },
  {
   "cell_type": "code",
   "execution_count": 19,
   "metadata": {},
   "outputs": [
    {
     "name": "stdout",
     "output_type": "stream",
     "text": [
      "contact not exits...!!!\n"
     ]
    }
   ],
   "source": [
    "def Update_contact(name,ph_no):\n",
    "    if(name in contact.keys()):\n",
    "        contact[name]=ph_no\n",
    "        print(\"Contact Updated Sucessfully...!!!\")\n",
    "    else:\n",
    "        print(\"contact not exits...!!!\")\n",
    "Update_contact(\"viay\",545627985)"
   ]
  },
  {
   "cell_type": "code",
   "execution_count": 21,
   "metadata": {},
   "outputs": [
    {
     "name": "stdout",
     "output_type": "stream",
     "text": [
      "name= vijay phoneNumber= 545627985\n"
     ]
    }
   ],
   "source": [
    "def Search_contact(name):\n",
    "    if(name in contact.keys()):\n",
    "        print(\"name=\",name,\"phoneNumber=\",contact[name])\n",
    "    else:\n",
    "        print(name,\"Don't exits ...!!!\")\n",
    "Search_contact(\"vijay\")\n",
    "    \n",
    "#     name_ph_no=input(\"Enter name/phone_number:\")\n",
    "#     if(name_ph_no.isalpha()):\n",
    "#         if(name_ph_no in contact.keys()):\n",
    "#             print(\"name=\",name_ph_no,\"phoneNumner=\",contact[name_ph_no])\n",
    "#         else:\n",
    "#             print(name_ph_no,\"dos't Exits in contacts...!!!\")\n",
    "#     else:\n",
    "#         if(name_ph_no in contact.values()):\n",
    "#             for name,phone in contact.items():\n",
    "#                 if(name_ph_no==phone):\n",
    "#                     print(\"name=\",)\n",
    "            "
   ]
  },
  {
   "cell_type": "code",
   "execution_count": 20,
   "metadata": {},
   "outputs": [
    {
     "name": "stdout",
     "output_type": "stream",
     "text": [
      "['__add__', '__class__', '__contains__', '__delattr__', '__dir__', '__doc__', '__eq__', '__format__', '__ge__', '__getattribute__', '__getitem__', '__getnewargs__', '__gt__', '__hash__', '__init__', '__init_subclass__', '__iter__', '__le__', '__len__', '__lt__', '__mod__', '__mul__', '__ne__', '__new__', '__reduce__', '__reduce_ex__', '__repr__', '__rmod__', '__rmul__', '__setattr__', '__sizeof__', '__str__', '__subclasshook__', 'capitalize', 'casefold', 'center', 'count', 'encode', 'endswith', 'expandtabs', 'find', 'format', 'format_map', 'index', 'isalnum', 'isalpha', 'isascii', 'isdecimal', 'isdigit', 'isidentifier', 'islower', 'isnumeric', 'isprintable', 'isspace', 'istitle', 'isupper', 'join', 'ljust', 'lower', 'lstrip', 'maketrans', 'partition', 'replace', 'rfind', 'rindex', 'rjust', 'rpartition', 'rsplit', 'rstrip', 'split', 'splitlines', 'startswith', 'strip', 'swapcase', 'title', 'translate', 'upper', 'zfill']\n"
     ]
    }
   ],
   "source": [
    "print(dir(str))"
   ]
  },
  {
   "cell_type": "code",
   "execution_count": null,
   "metadata": {},
   "outputs": [],
   "source": [
    "Modules/Packages\n",
    "-->pre defined import math ,import random ,import bs4\n",
    "-->User defined -->"
   ]
  }
 ],
 "metadata": {
  "kernelspec": {
   "display_name": "Python 3",
   "language": "python",
   "name": "python3"
  },
  "language_info": {
   "codemirror_mode": {
    "name": "ipython",
    "version": 3
   },
   "file_extension": ".py",
   "mimetype": "text/x-python",
   "name": "python",
   "nbconvert_exporter": "python",
   "pygments_lexer": "ipython3",
   "version": "3.7.1"
  }
 },
 "nbformat": 4,
 "nbformat_minor": 2
}
