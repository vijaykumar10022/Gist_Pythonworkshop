{
 "cells": [
  {
   "cell_type": "markdown",
   "metadata": {},
   "source": [
    "# Task - 24-09-2019\n",
    "Multiplication table\n",
    "sum of digits\n",
    "first and last digit\n",
    "legal or illegal\n",
    "bricks game\n",
    "expressions-3\n",
    "leap years"
   ]
  },
  {
   "cell_type": "code",
   "execution_count": 2,
   "metadata": {},
   "outputs": [
    {
     "name": "stdout",
     "output_type": "stream",
     "text": [
      "Enter table number: 15\n",
      "15 * 1 = 15\n",
      "15 * 2 = 30\n",
      "15 * 3 = 45\n",
      "15 * 4 = 60\n",
      "15 * 5 = 75\n",
      "15 * 6 = 90\n",
      "15 * 7 = 105\n",
      "15 * 8 = 120\n",
      "15 * 9 = 135\n",
      "15 * 10 = 150\n"
     ]
    }
   ],
   "source": [
    "#Multiplication table\n",
    "n=int(input(\"Enter table number: \"))\n",
    "for i in range(1,11):\n",
    "    print(n,\"*\",i,\"=\",(n*i))"
   ]
  },
  {
   "cell_type": "code",
   "execution_count": 5,
   "metadata": {},
   "outputs": [
    {
     "name": "stdout",
     "output_type": "stream",
     "text": [
      "Enter No of Test Cases:5\n",
      "Enter n value: 665412\n",
      "24\n",
      "Enter n value: 884562\n",
      "33\n",
      "Enter n value: 32147\n",
      "17\n",
      "Enter n value: 987\n",
      "24\n",
      "Enter n value: 7456\n",
      "22\n"
     ]
    }
   ],
   "source": [
    "#sum of digits\n",
    "t=int(input(\"Enter No of Test Cases:\"))\n",
    "for i in range(t):\n",
    "    n=int(input(\"Enter n value: \"))\n",
    "    sum1=0\n",
    "    #1234     1+2+3+4=10\n",
    "    while(n!=0):#(1234!=0)(T),123!=0(T),(12!=0)(T),(1!=0)(T),0!=0(F)\n",
    "        sum1=sum1+(n%10)#sum1=0+(1234%10)-->0+4-->4,4+123%10-->4+3-->7,7+(12%10)-->7+2-->9,9+(1%10)-->9+1-->10\n",
    "        n=n//10#1234//10 -->123,123//10-->12,12//10-->1,1//10-->0\n",
    "    print(sum1)"
   ]
  },
  {
   "cell_type": "code",
   "execution_count": 7,
   "metadata": {},
   "outputs": [
    {
     "name": "stdout",
     "output_type": "stream",
     "text": [
      "Enter n value: 7894123\n",
      "Last Digit=  3\n",
      "First digit=  7\n"
     ]
    }
   ],
   "source": [
    "#First and last digit\n",
    "#5678---->Last digit=8 First digit=5     n=5678%10         10 above\n",
    "n=int(input(\"Enter n value: \"))\n",
    "print(\"Last Digit= \",n%10)\n",
    "while(n>=10):#5678>=10 (T) 567>=10(T) 56>=10(T)\n",
    "    n=n//10 #n=5678//10=567  n=567//10=56 n=56//10=5\n",
    "    \n",
    "print(\"First digit= \",n)"
   ]
  },
  {
   "cell_type": "code",
   "execution_count": 72,
   "metadata": {},
   "outputs": [
    {
     "name": "stdout",
     "output_type": "stream",
     "text": [
      "Enter n value: 1401601499\n",
      "Legal ISBN\n"
     ]
    }
   ],
   "source": [
    "# #n=1401601499\n",
    "# input:1401601499\n",
    "#       1*1+4*2+0*3+1*4+6*5+0*6+1*7+4*8+9*9+9*10-->?%11-->0\n",
    "# 1.cheking 10 digits\n",
    "# 2.10 correct\n",
    "# ouput:Legal or Illegal\n",
    "\n",
    "n=int(input(\"Enter n value: \"))\n",
    "temp=n\n",
    "count=0\n",
    "sum1=0\n",
    "i=10\n",
    "while(n!=0):\n",
    "    count=count+1\n",
    "    n=n//10\n",
    "if count==10:\n",
    "    while(temp!=0):   #temp=1401601499 140160149\n",
    "                      #1401601499%10=9 140160.149%10 =9\n",
    "        sum1=sum1+(temp%10*i)   #sum1=0+(9*10)=sum1=90 sum1=90+(9*9)=171\n",
    "        i=i-1         #10-1=9 8\n",
    "        temp=temp//10    #1401601499//10=140160149 14016014\n",
    "    if(sum1%11==0):\n",
    "        print(\"Legal ISBN\")\n",
    "    else:\n",
    "        print(\"IILegal ISBN\")\n",
    "else:\n",
    "    print(\"IILegal ISBN\")"
   ]
  },
  {
   "cell_type": "code",
   "execution_count": null,
   "metadata": {},
   "outputs": [],
   "source": []
  },
  {
   "cell_type": "code",
   "execution_count": 16,
   "metadata": {},
   "outputs": [
    {
     "name": "stdout",
     "output_type": "stream",
     "text": [
      "1\n",
      "10\n",
      "85 736 8201 109386 1679629 28824020 536870929 10460353222 200000000021 3138428376744 "
     ]
    }
   ],
   "source": [
    "# Task 3:\n",
    "#     input:1 10\n",
    "#     expression:2+3 + (2^3)*(10) ,3+4 +(3^4)*(9), 4+5 +(4^5)*(8), 5+6 * (5^6)*(7)\n",
    "#     output:85 736 8201\n",
    "s=int(input(\"\"))#1\n",
    "e=int(input(\"\"))#10\n",
    "t=10\n",
    "for i in range(s,e+1):\n",
    "    n1=i+1 #-->1+1-->2\n",
    "    n2=i+2 #-->1+2 -->3\n",
    "    expre=(n1+n2)+(n1**n2)*(t)\n",
    "    print(expre,end=\" \")\n",
    "    t=t-1\n",
    "    "
   ]
  },
  {
   "cell_type": "code",
   "execution_count": null,
   "metadata": {},
   "outputs": [],
   "source": []
  },
  {
   "cell_type": "code",
   "execution_count": 19,
   "metadata": {},
   "outputs": [
    {
     "name": "stdout",
     "output_type": "stream",
     "text": [
      "200\n",
      "2000\n",
      "200 204 208 212 216 220 224 228 232 236 240 244 248 252 256 260 264 268 272 276 280 284 288 292 296 300 304 308 312 316 320 324 328 332 336 340 344 348 352 356 360 364 368 372 376 380 384 388 392 396 400 404 408 412 416 420 424 428 432 436 440 444 448 452 456 460 464 468 472 476 480 484 488 492 496 500 504 508 512 516 520 524 528 532 536 540 544 548 552 556 560 564 568 572 576 580 584 588 592 596 600 604 608 612 616 620 624 628 632 636 640 644 648 652 656 660 664 668 672 676 680 684 688 692 696 700 704 708 712 716 720 724 728 732 736 740 744 748 752 756 760 764 768 772 776 780 784 788 792 796 800 804 808 812 816 820 824 828 832 836 840 844 848 852 856 860 864 868 872 876 880 884 888 892 896 900 904 908 912 916 920 924 928 932 936 940 944 948 952 956 960 964 968 972 976 980 984 988 992 996 1000 1004 1008 1012 1016 1020 1024 1028 1032 1036 1040 1044 1048 1052 1056 1060 1064 1068 1072 1076 1080 1084 1088 1092 1096 1100 1104 1108 1112 1116 1120 1124 1128 1132 1136 1140 1144 1148 1152 1156 1160 1164 1168 1172 1176 1180 1184 1188 1192 1196 1200 1204 1208 1212 1216 1220 1224 1228 1232 1236 1240 1244 1248 1252 1256 1260 1264 1268 1272 1276 1280 1284 1288 1292 1296 1300 1304 1308 1312 1316 1320 1324 1328 1332 1336 1340 1344 1348 1352 1356 1360 1364 1368 1372 1376 1380 1384 1388 1392 1396 1400 1404 1408 1412 1416 1420 1424 1428 1432 1436 1440 1444 1448 1452 1456 1460 1464 1468 1472 1476 1480 1484 1488 1492 1496 1500 1504 1508 1512 1516 1520 1524 1528 1532 1536 1540 1544 1548 1552 1556 1560 1564 1568 1572 1576 1580 1584 1588 1592 1596 1600 1604 1608 1612 1616 1620 1624 1628 1632 1636 1640 1644 1648 1652 1656 1660 1664 1668 1672 1676 1680 1684 1688 1692 1696 1700 1704 1708 1712 1716 1720 1724 1728 1732 1736 1740 1744 1748 1752 1756 1760 1764 1768 1772 1776 1780 1784 1788 1792 1796 1800 1804 1808 1812 1816 1820 1824 1828 1832 1836 1840 1844 1848 1852 1856 1860 1864 1868 1872 1876 1880 1884 1888 1892 1896 1900 1904 1908 1912 1916 1920 1924 1928 1932 1936 1940 1944 1948 1952 1956 1960 1964 1968 1972 1976 1980 1984 1988 1992 1996 2000 "
     ]
    }
   ],
   "source": [
    "# leap years\n",
    "# input:200 2000\n",
    "# output: leapyears\n",
    "n1=int(input())\n",
    "n2=int(input())\n",
    "for i in range(n1,n2+1):\n",
    "    if(i%4==0 or ((i%100!=0) and (i%400==0))):\n",
    "       print(i,end=\" \")"
   ]
  },
  {
   "cell_type": "code",
   "execution_count": null,
   "metadata": {},
   "outputs": [],
   "source": []
  },
  {
   "cell_type": "code",
   "execution_count": 21,
   "metadata": {
    "scrolled": true
   },
   "outputs": [
    {
     "name": "stdout",
     "output_type": "stream",
     "text": [
      "['__add__', '__class__', '__contains__', '__delattr__', '__dir__', '__doc__', '__eq__', '__format__', '__ge__', '__getattribute__', '__getitem__', '__getnewargs__', '__gt__', '__hash__', '__init__', '__init_subclass__', '__iter__', '__le__', '__len__', '__lt__', '__mod__', '__mul__', '__ne__', '__new__', '__reduce__', '__reduce_ex__', '__repr__', '__rmod__', '__rmul__', '__setattr__', '__sizeof__', '__str__', '__subclasshook__', 'capitalize', 'casefold', 'center', 'count', 'encode', 'endswith', 'expandtabs', 'find', 'format', 'format_map', 'index', 'isalnum', 'isalpha', 'isascii', 'isdecimal', 'isdigit', 'isidentifier', 'islower', 'isnumeric', 'isprintable', 'isspace', 'istitle', 'isupper', 'join', 'ljust', 'lower', 'lstrip', 'maketrans', 'partition', 'replace', 'rfind', 'rindex', 'rjust', 'rpartition', 'rsplit', 'rstrip', 'split', 'splitlines', 'startswith', 'strip', 'swapcase', 'title', 'translate', 'upper', 'zfill']\n"
     ]
    }
   ],
   "source": [
    "print(dir(str))"
   ]
  },
  {
   "cell_type": "code",
   "execution_count": null,
   "metadata": {},
   "outputs": [],
   "source": []
  },
  {
   "cell_type": "code",
   "execution_count": 52,
   "metadata": {},
   "outputs": [
    {
     "name": "stdout",
     "output_type": "stream",
     "text": [
      "2\n",
      "        vijay\n",
      "<class 'str'>\n"
     ]
    },
    {
     "data": {
      "text/plain": [
       "'        vijay     '"
      ]
     },
     "execution_count": 52,
     "metadata": {},
     "output_type": "execute_result"
    }
   ],
   "source": [
    "s=\"Harideep\"\n",
    "print(s.find('r'))\n",
    "d=\"i am vijay from apssdc my salary is {salary:.2f} Rupees\"\n",
    "# print(d.format(salary=20000))\n",
    "# txt = \"For only {price:.2f} dollars!\"\n",
    "# print(txt.format(price = 49))\n",
    "# d.index(\"v\")\n",
    "d=\"        vijay     \"\n",
    "print(d.rstrip())\n",
    "print(type(d.translate(\"int\")))\n",
    "\n",
    "d.zfill(5)\n"
   ]
  },
  {
   "cell_type": "code",
   "execution_count": 54,
   "metadata": {},
   "outputs": [
    {
     "name": "stdout",
     "output_type": "stream",
     "text": [
      "harideep\n",
      "Hello harideep\n"
     ]
    }
   ],
   "source": [
    "name=input()\n",
    "def greeting(z):\n",
    "    print(\"Hello \"+z)\n",
    "greeting(name)"
   ]
  },
  {
   "cell_type": "code",
   "execution_count": 61,
   "metadata": {},
   "outputs": [
    {
     "name": "stdout",
     "output_type": "stream",
     "text": [
      "6\n",
      "Perfect number\n"
     ]
    }
   ],
   "source": [
    "def perfect():\n",
    "    n=int(input())\n",
    "    sum1=0\n",
    "    for i in range(1,(n//2)+1):\n",
    "        if n%i==0:\n",
    "            sum1=sum1+i\n",
    "    if sum1==n:\n",
    "        print(\"Perfect number\")\n",
    "    else:\n",
    "        print(\"Not a perfect number\")\n",
    "perfect()"
   ]
  },
  {
   "cell_type": "code",
   "execution_count": 67,
   "metadata": {},
   "outputs": [
    {
     "name": "stdout",
     "output_type": "stream",
     "text": [
      "5\n"
     ]
    },
    {
     "data": {
      "text/plain": [
       "1"
      ]
     },
     "execution_count": 67,
     "metadata": {},
     "output_type": "execute_result"
    }
   ],
   "source": [
    "n=int(input())\n",
    "def isprime(n):\n",
    "    flag=0\n",
    "    for i in range(1,n+1):\n",
    "        if n%i==0:\n",
    "            flag=flag+1\n",
    "    if flag==2:\n",
    "        return 1\n",
    "    else:\n",
    "        return 0\n",
    "isprime(n)\n",
    "    "
   ]
  },
  {
   "cell_type": "code",
   "execution_count": 70,
   "metadata": {},
   "outputs": [
    {
     "name": "stdout",
     "output_type": "stream",
     "text": [
      "24\n",
      "2\n",
      "3\n"
     ]
    }
   ],
   "source": [
    "n=int(input())\n",
    "def primescheck(n):\n",
    "    for i in range(1,n+1):\n",
    "        if n%i==0:\n",
    "            z=isprime(i)\n",
    "            if z==1:\n",
    "                print(i)\n",
    "primescheck(n)"
   ]
  },
  {
   "cell_type": "code",
   "execution_count": null,
   "metadata": {},
   "outputs": [],
   "source": []
  },
  {
   "cell_type": "code",
   "execution_count": null,
   "metadata": {},
   "outputs": [],
   "source": []
  },
  {
   "cell_type": "markdown",
   "metadata": {},
   "source": [
    "# Functions\n",
    "\n",
    "- with arguments with return value\n",
    " -Input:outside the function\n",
    " -output:outside the function\n",
    "- with argumemts with out return value\n",
    " -Input:outside the function\n",
    " -output: inside the function\n",
    "- without argument with return value\n",
    "    -Input: inside the function\n",
    "    -output: outside the function\n",
    "- without arguments without return value\n",
    "    -Input: Inside the function\n",
    "    -Output: Inside the function\n",
    "\n",
    "\n",
    "def functionname(arguments):\n",
    "    statements\n"
   ]
  },
  {
   "cell_type": "code",
   "execution_count": 77,
   "metadata": {},
   "outputs": [
    {
     "name": "stdout",
     "output_type": "stream",
     "text": [
      "Enter n value: 1234\n"
     ]
    },
    {
     "data": {
      "text/plain": [
       "10"
      ]
     },
     "execution_count": 77,
     "metadata": {},
     "output_type": "execute_result"
    }
   ],
   "source": [
    "#with arguments with return value\n",
    "#sum of digits\n",
    "n=int(input(\"Enter n value: \"))\n",
    "sum1=0\n",
    "def geethanjali(n,sum1):\n",
    "    while(n!=0):\n",
    "        sum1=sum1+(n%10)\n",
    "        n=n//10\n",
    "    return sum1\n",
    "\n",
    "geethanjali(n,sum1)"
   ]
  },
  {
   "cell_type": "code",
   "execution_count": null,
   "metadata": {},
   "outputs": [],
   "source": []
  },
  {
   "cell_type": "code",
   "execution_count": 82,
   "metadata": {},
   "outputs": [
    {
     "name": "stdout",
     "output_type": "stream",
     "text": [
      "Enter n value: 497\n",
      "Not a perfect number\n"
     ]
    }
   ],
   "source": [
    "#with arguments without return value\n",
    "#perfect number\n",
    "#6---> 1 2 3  6-->6\n",
    "#28--->1 2 4 7 14 28--->28\n",
    "#30 ---->1 2 3 5 6 10 15 \n",
    "\n",
    "#6 28 496\n",
    "n=int(input(\"Enter n value: \"))\n",
    "def perfectnumber(n):\n",
    "    sum1=0\n",
    "    for i in range(1,(n//2)+1):\n",
    "        if n%i==0:\n",
    "            sum1=sum1+i\n",
    "    if(sum1==n):\n",
    "        print(\"perfect number\")\n",
    "    else:\n",
    "        print(\"Not a perfect number\")\n",
    "perfectnumber(n)"
   ]
  },
  {
   "cell_type": "code",
   "execution_count": 88,
   "metadata": {},
   "outputs": [
    {
     "name": "stdout",
     "output_type": "stream",
     "text": [
      "Enter n value: 24\n"
     ]
    },
    {
     "data": {
      "text/plain": [
       "0"
      ]
     },
     "execution_count": 88,
     "metadata": {},
     "output_type": "execute_result"
    }
   ],
   "source": [
    "#without arguments with return value\n",
    "#prime number  11 13 5 6 7 8 \n",
    "#1\n",
    "#0\n",
    "def checkprime():\n",
    "    n=int(input(\"Enter n value: \"))\n",
    "    count=0\n",
    "    for i in range(1,n+1):\n",
    "        if n%i==0:\n",
    "            count=count+1\n",
    "    if count==2:\n",
    "        return 1\n",
    "    else:\n",
    "        return 0\n",
    "checkprime()"
   ]
  },
  {
   "cell_type": "code",
   "execution_count": 89,
   "metadata": {},
   "outputs": [
    {
     "name": "stdout",
     "output_type": "stream",
     "text": [
      "Enter your name: Harideep\n",
      "Good afternoon  Harideep\n"
     ]
    }
   ],
   "source": [
    "#without arguments without return type\n",
    "#Greeting message\n",
    "def greeting():\n",
    "    name=input(\"Enter your name: \")\n",
    "    print(\"Good afternoon \",name)\n",
    "greeting()"
   ]
  },
  {
   "cell_type": "code",
   "execution_count": 104,
   "metadata": {},
   "outputs": [],
   "source": [
    "# funtion with arguments and with return value\n",
    "def isprime(n):\n",
    "    count=0\n",
    "    for i in range(1,n+1):\n",
    "        if(n%i==0):\n",
    "            count+=1 #count=count+1\n",
    "    if(count==2):\n",
    "        print(n,end=\" \")\n",
    "def iseven(n):\n",
    "    if(n%2==0):\n",
    "        print(n,end=\" \")\n",
    "def isodd(n):\n",
    "    if(n%2==1):\n",
    "        print(n,end=\" \")\n",
    "    "
   ]
  },
  {
   "cell_type": "code",
   "execution_count": null,
   "metadata": {},
   "outputs": [],
   "source": []
  },
  {
   "cell_type": "code",
   "execution_count": null,
   "metadata": {},
   "outputs": [],
   "source": []
  },
  {
   "cell_type": "code",
   "execution_count": null,
   "metadata": {},
   "outputs": [],
   "source": []
  },
  {
   "cell_type": "code",
   "execution_count": null,
   "metadata": {},
   "outputs": [],
   "source": []
  },
  {
   "cell_type": "code",
   "execution_count": null,
   "metadata": {},
   "outputs": [],
   "source": []
  },
  {
   "cell_type": "code",
   "execution_count": null,
   "metadata": {},
   "outputs": [],
   "source": []
  },
  {
   "cell_type": "code",
   "execution_count": null,
   "metadata": {},
   "outputs": [],
   "source": []
  },
  {
   "cell_type": "code",
   "execution_count": null,
   "metadata": {},
   "outputs": [],
   "source": []
  },
  {
   "cell_type": "code",
   "execution_count": 105,
   "metadata": {},
   "outputs": [
    {
     "name": "stdout",
     "output_type": "stream",
     "text": [
      "1\n",
      "10\n",
      "2 3 5 7 "
     ]
    }
   ],
   "source": [
    "# input:10 100\n",
    "# ouput:11 13 17 19 ...\n",
    "s=int(input())\n",
    "e=int(input())\n",
    "for i in range(s,e+1):\n",
    "    isprime(i)"
   ]
  },
  {
   "cell_type": "code",
   "execution_count": 110,
   "metadata": {},
   "outputs": [
    {
     "name": "stdout",
     "output_type": "stream",
     "text": [
      "1\n",
      "20\n",
      "Even Number are: 2 4 6 8 10 12 14 16 18 20 \n",
      "Odd Numbers are: 1 3 5 7 9 11 13 15 17 19 "
     ]
    }
   ],
   "source": [
    "s=int(input())\n",
    "e=int(input())\n",
    "print(\"Even Number are:\",end=\" \")\n",
    "for i in range(s,e+1):\n",
    "    iseven(i)\n",
    "print(\"\\nOdd Numbers are:\",end =\" \")\n",
    "for i in range(s,e+1):\n",
    "    isodd(i)\n",
    "    "
   ]
  },
  {
   "cell_type": "code",
   "execution_count": 117,
   "metadata": {},
   "outputs": [
    {
     "name": "stdout",
     "output_type": "stream",
     "text": [
      "10\n",
      "['__add__', '__class__', '__contains__', '__delattr__', '__dir__', '__doc__', '__eq__', '__format__', '__ge__', '__getattribute__', '__getitem__', '__getnewargs__', '__gt__', '__hash__', '__init__', '__init_subclass__', '__iter__', '__le__', '__len__', '__lt__', '__mod__', '__mul__', '__ne__', '__new__', '__reduce__', '__reduce_ex__', '__repr__', '__rmod__', '__rmul__', '__setattr__', '__sizeof__', '__str__', '__subclasshook__', 'capitalize', 'casefold', 'center', 'count', 'encode', 'endswith', 'expandtabs', 'find', 'format', 'format_map', 'index', 'isalnum', 'isalpha', 'isascii', 'isdecimal', 'isdigit', 'isidentifier', 'islower', 'isnumeric', 'isprintable', 'isspace', 'istitle', 'isupper', 'join', 'ljust', 'lower', 'lstrip', 'maketrans', 'partition', 'replace', 'rfind', 'rindex', 'rjust', 'rpartition', 'rsplit', 'rstrip', 'split', 'splitlines', 'startswith', 'strip', 'swapcase', 'title', 'translate', 'upper', 'zfill']\n"
     ]
    }
   ],
   "source": [
    "### Strings\n",
    "# string=\"Hello Geethanjali\"\n",
    "# length=len(string)\n",
    "# legal or illigal\n",
    "s=1401661900\n",
    "length=len(str(s))\n",
    "print(length)\n",
    "# for i in range(0,length):\n",
    "#     print(string[i],end=\"\")\n",
    "print(dir(str))"
   ]
  },
  {
   "cell_type": "code",
   "execution_count": 148,
   "metadata": {},
   "outputs": [
    {
     "name": "stdout",
     "output_type": "stream",
     "text": [
      "Hello pythonoooooo\n",
      "8\n",
      "4\n",
      "I am From APSSDC i taking around 30000 Rupees\n",
      "10\n",
      "True\n",
      "True\n",
      "True\n",
      "True\n",
      "True\n",
      "True\n",
      "True\n",
      "False\n"
     ]
    }
   ],
   "source": [
    "s=\"hello pythonoooooo\"\n",
    "print(s.capitalize())\n",
    "print(s.count('o'))\n",
    "print(s.find('o'))\n",
    "apssdc=\"I am From APSSDC i taking around {salary:} Rupees\"\n",
    "print(apssdc.format(salary=30000))\n",
    "print(apssdc.index('A'))\n",
    "st=\"vijay0022\"\n",
    "print(st.isalnum())\n",
    "st1=\"HELLO\"\n",
    "print(st1.isalpha())\n",
    "st2=\"912345\"\n",
    "print(st2.isdecimal())\n",
    "data='7'\n",
    "print(data.isdigit())\n",
    "ident=\"heelo123\"\n",
    "print(ident.isidentifier())\n",
    "ch='p'\n",
    "print(ch.islower())\n",
    "data=\"10+20\"\n",
    "print(data.isprintable())\n",
    "title=\"Hello Python\"\n",
    "print(title.istitle())"
   ]
  },
  {
   "cell_type": "code",
   "execution_count": null,
   "metadata": {},
   "outputs": [],
   "source": []
  }
 ],
 "metadata": {
  "kernelspec": {
   "display_name": "Python 3",
   "language": "python",
   "name": "python3"
  },
  "language_info": {
   "codemirror_mode": {
    "name": "ipython",
    "version": 3
   },
   "file_extension": ".py",
   "mimetype": "text/x-python",
   "name": "python",
   "nbconvert_exporter": "python",
   "pygments_lexer": "ipython3",
   "version": "3.7.1"
  }
 },
 "nbformat": 4,
 "nbformat_minor": 2
}
